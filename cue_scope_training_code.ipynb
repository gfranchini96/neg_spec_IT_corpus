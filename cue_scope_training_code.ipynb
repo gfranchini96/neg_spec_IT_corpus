{
  "nbformat": 4,
  "nbformat_minor": 0,
  "metadata": {
    "interpreter": {
      "hash": "8eec1778c256b2e4d5bea553c1fcf0e92cf7c147db19809d9b3571d96bffc7cd"
    },
    "kernelspec": {
      "display_name": "Python 3.9.7 64-bit",
      "name": "python3"
    },
    "language_info": {
      "codemirror_mode": {
        "name": "ipython",
        "version": 3
      },
      "file_extension": ".py",
      "mimetype": "text/x-python",
      "name": "python",
      "nbconvert_exporter": "python",
      "pygments_lexer": "ipython3",
      "version": "3.9.7"
    },
    "colab": {
      "name": "cue_scope_training_code.ipynb",
      "provenance": [],
      "collapsed_sections": [
        "iq8ZBirAUKgh",
        "htpz0ixGUKgD",
        "VYDGpKDjUKgH",
        "xjlHJrEhUKgR",
        "l5BR7oYDgcmk",
        "_WJ6KwZxUKgZ"
      ]
    },
    "accelerator": "GPU",
    "widgets": {
      "application/vnd.jupyter.widget-state+json": {
        "5689c879ef39435188b2f5afbcb31679": {
          "model_module": "@jupyter-widgets/controls",
          "model_name": "HBoxModel",
          "model_module_version": "1.5.0",
          "state": {
            "_view_name": "HBoxView",
            "_dom_classes": [],
            "_model_name": "HBoxModel",
            "_view_module": "@jupyter-widgets/controls",
            "_model_module_version": "1.5.0",
            "_view_count": null,
            "_view_module_version": "1.5.0",
            "box_style": "",
            "layout": "IPY_MODEL_2154d43643d94f1799a40109bf0e3a47",
            "_model_module": "@jupyter-widgets/controls",
            "children": [
              "IPY_MODEL_7797f8b33266441e904027fa51f70c89",
              "IPY_MODEL_3e3d5c01916340e7a5a2f5363ee4e53b",
              "IPY_MODEL_62c2c0e0308042d6a7e151f85465083c"
            ]
          }
        },
        "2154d43643d94f1799a40109bf0e3a47": {
          "model_module": "@jupyter-widgets/base",
          "model_name": "LayoutModel",
          "model_module_version": "1.2.0",
          "state": {
            "_view_name": "LayoutView",
            "grid_template_rows": null,
            "right": null,
            "justify_content": null,
            "_view_module": "@jupyter-widgets/base",
            "overflow": null,
            "_model_module_version": "1.2.0",
            "_view_count": null,
            "flex_flow": null,
            "width": null,
            "min_width": null,
            "border": null,
            "align_items": null,
            "bottom": null,
            "_model_module": "@jupyter-widgets/base",
            "top": null,
            "grid_column": null,
            "overflow_y": null,
            "overflow_x": null,
            "grid_auto_flow": null,
            "grid_area": null,
            "grid_template_columns": null,
            "flex": null,
            "_model_name": "LayoutModel",
            "justify_items": null,
            "grid_row": null,
            "max_height": null,
            "align_content": null,
            "visibility": null,
            "align_self": null,
            "height": null,
            "min_height": null,
            "padding": null,
            "grid_auto_rows": null,
            "grid_gap": null,
            "max_width": null,
            "order": null,
            "_view_module_version": "1.2.0",
            "grid_template_areas": null,
            "object_position": null,
            "object_fit": null,
            "grid_auto_columns": null,
            "margin": null,
            "display": null,
            "left": null
          }
        },
        "7797f8b33266441e904027fa51f70c89": {
          "model_module": "@jupyter-widgets/controls",
          "model_name": "HTMLModel",
          "model_module_version": "1.5.0",
          "state": {
            "_view_name": "HTMLView",
            "style": "IPY_MODEL_2e49eb1f84ca4b9b97e2d5ea0cb0595c",
            "_dom_classes": [],
            "description": "",
            "_model_name": "HTMLModel",
            "placeholder": "​",
            "_view_module": "@jupyter-widgets/controls",
            "_model_module_version": "1.5.0",
            "value": "Downloading: 100%",
            "_view_count": null,
            "_view_module_version": "1.5.0",
            "description_tooltip": null,
            "_model_module": "@jupyter-widgets/controls",
            "layout": "IPY_MODEL_67df0c30c9f44f068b50070a040087fb"
          }
        },
        "3e3d5c01916340e7a5a2f5363ee4e53b": {
          "model_module": "@jupyter-widgets/controls",
          "model_name": "FloatProgressModel",
          "model_module_version": "1.5.0",
          "state": {
            "_view_name": "ProgressView",
            "style": "IPY_MODEL_31c905fea4604115997bb0d120319098",
            "_dom_classes": [],
            "description": "",
            "_model_name": "FloatProgressModel",
            "bar_style": "success",
            "max": 59,
            "_view_module": "@jupyter-widgets/controls",
            "_model_module_version": "1.5.0",
            "value": 59,
            "_view_count": null,
            "_view_module_version": "1.5.0",
            "orientation": "horizontal",
            "min": 0,
            "description_tooltip": null,
            "_model_module": "@jupyter-widgets/controls",
            "layout": "IPY_MODEL_6613e58ed1af4f738677d5774a95f481"
          }
        },
        "62c2c0e0308042d6a7e151f85465083c": {
          "model_module": "@jupyter-widgets/controls",
          "model_name": "HTMLModel",
          "model_module_version": "1.5.0",
          "state": {
            "_view_name": "HTMLView",
            "style": "IPY_MODEL_3cb4b4de75264c4ab4f37178f7ff9b92",
            "_dom_classes": [],
            "description": "",
            "_model_name": "HTMLModel",
            "placeholder": "​",
            "_view_module": "@jupyter-widgets/controls",
            "_model_module_version": "1.5.0",
            "value": " 59.0/59.0 [00:00&lt;00:00, 1.31kB/s]",
            "_view_count": null,
            "_view_module_version": "1.5.0",
            "description_tooltip": null,
            "_model_module": "@jupyter-widgets/controls",
            "layout": "IPY_MODEL_5ed8fbfcdc0446fc94e9fc6d7df2b828"
          }
        },
        "2e49eb1f84ca4b9b97e2d5ea0cb0595c": {
          "model_module": "@jupyter-widgets/controls",
          "model_name": "DescriptionStyleModel",
          "model_module_version": "1.5.0",
          "state": {
            "_view_name": "StyleView",
            "_model_name": "DescriptionStyleModel",
            "description_width": "",
            "_view_module": "@jupyter-widgets/base",
            "_model_module_version": "1.5.0",
            "_view_count": null,
            "_view_module_version": "1.2.0",
            "_model_module": "@jupyter-widgets/controls"
          }
        },
        "67df0c30c9f44f068b50070a040087fb": {
          "model_module": "@jupyter-widgets/base",
          "model_name": "LayoutModel",
          "model_module_version": "1.2.0",
          "state": {
            "_view_name": "LayoutView",
            "grid_template_rows": null,
            "right": null,
            "justify_content": null,
            "_view_module": "@jupyter-widgets/base",
            "overflow": null,
            "_model_module_version": "1.2.0",
            "_view_count": null,
            "flex_flow": null,
            "width": null,
            "min_width": null,
            "border": null,
            "align_items": null,
            "bottom": null,
            "_model_module": "@jupyter-widgets/base",
            "top": null,
            "grid_column": null,
            "overflow_y": null,
            "overflow_x": null,
            "grid_auto_flow": null,
            "grid_area": null,
            "grid_template_columns": null,
            "flex": null,
            "_model_name": "LayoutModel",
            "justify_items": null,
            "grid_row": null,
            "max_height": null,
            "align_content": null,
            "visibility": null,
            "align_self": null,
            "height": null,
            "min_height": null,
            "padding": null,
            "grid_auto_rows": null,
            "grid_gap": null,
            "max_width": null,
            "order": null,
            "_view_module_version": "1.2.0",
            "grid_template_areas": null,
            "object_position": null,
            "object_fit": null,
            "grid_auto_columns": null,
            "margin": null,
            "display": null,
            "left": null
          }
        },
        "31c905fea4604115997bb0d120319098": {
          "model_module": "@jupyter-widgets/controls",
          "model_name": "ProgressStyleModel",
          "model_module_version": "1.5.0",
          "state": {
            "_view_name": "StyleView",
            "_model_name": "ProgressStyleModel",
            "description_width": "",
            "_view_module": "@jupyter-widgets/base",
            "_model_module_version": "1.5.0",
            "_view_count": null,
            "_view_module_version": "1.2.0",
            "bar_color": null,
            "_model_module": "@jupyter-widgets/controls"
          }
        },
        "6613e58ed1af4f738677d5774a95f481": {
          "model_module": "@jupyter-widgets/base",
          "model_name": "LayoutModel",
          "model_module_version": "1.2.0",
          "state": {
            "_view_name": "LayoutView",
            "grid_template_rows": null,
            "right": null,
            "justify_content": null,
            "_view_module": "@jupyter-widgets/base",
            "overflow": null,
            "_model_module_version": "1.2.0",
            "_view_count": null,
            "flex_flow": null,
            "width": null,
            "min_width": null,
            "border": null,
            "align_items": null,
            "bottom": null,
            "_model_module": "@jupyter-widgets/base",
            "top": null,
            "grid_column": null,
            "overflow_y": null,
            "overflow_x": null,
            "grid_auto_flow": null,
            "grid_area": null,
            "grid_template_columns": null,
            "flex": null,
            "_model_name": "LayoutModel",
            "justify_items": null,
            "grid_row": null,
            "max_height": null,
            "align_content": null,
            "visibility": null,
            "align_self": null,
            "height": null,
            "min_height": null,
            "padding": null,
            "grid_auto_rows": null,
            "grid_gap": null,
            "max_width": null,
            "order": null,
            "_view_module_version": "1.2.0",
            "grid_template_areas": null,
            "object_position": null,
            "object_fit": null,
            "grid_auto_columns": null,
            "margin": null,
            "display": null,
            "left": null
          }
        },
        "3cb4b4de75264c4ab4f37178f7ff9b92": {
          "model_module": "@jupyter-widgets/controls",
          "model_name": "DescriptionStyleModel",
          "model_module_version": "1.5.0",
          "state": {
            "_view_name": "StyleView",
            "_model_name": "DescriptionStyleModel",
            "description_width": "",
            "_view_module": "@jupyter-widgets/base",
            "_model_module_version": "1.5.0",
            "_view_count": null,
            "_view_module_version": "1.2.0",
            "_model_module": "@jupyter-widgets/controls"
          }
        },
        "5ed8fbfcdc0446fc94e9fc6d7df2b828": {
          "model_module": "@jupyter-widgets/base",
          "model_name": "LayoutModel",
          "model_module_version": "1.2.0",
          "state": {
            "_view_name": "LayoutView",
            "grid_template_rows": null,
            "right": null,
            "justify_content": null,
            "_view_module": "@jupyter-widgets/base",
            "overflow": null,
            "_model_module_version": "1.2.0",
            "_view_count": null,
            "flex_flow": null,
            "width": null,
            "min_width": null,
            "border": null,
            "align_items": null,
            "bottom": null,
            "_model_module": "@jupyter-widgets/base",
            "top": null,
            "grid_column": null,
            "overflow_y": null,
            "overflow_x": null,
            "grid_auto_flow": null,
            "grid_area": null,
            "grid_template_columns": null,
            "flex": null,
            "_model_name": "LayoutModel",
            "justify_items": null,
            "grid_row": null,
            "max_height": null,
            "align_content": null,
            "visibility": null,
            "align_self": null,
            "height": null,
            "min_height": null,
            "padding": null,
            "grid_auto_rows": null,
            "grid_gap": null,
            "max_width": null,
            "order": null,
            "_view_module_version": "1.2.0",
            "grid_template_areas": null,
            "object_position": null,
            "object_fit": null,
            "grid_auto_columns": null,
            "margin": null,
            "display": null,
            "left": null
          }
        },
        "845df94a038c47818e8e4b1e340f958f": {
          "model_module": "@jupyter-widgets/controls",
          "model_name": "HBoxModel",
          "model_module_version": "1.5.0",
          "state": {
            "_view_name": "HBoxView",
            "_dom_classes": [],
            "_model_name": "HBoxModel",
            "_view_module": "@jupyter-widgets/controls",
            "_model_module_version": "1.5.0",
            "_view_count": null,
            "_view_module_version": "1.5.0",
            "box_style": "",
            "layout": "IPY_MODEL_1610aeb49966419daa723c13faa133fb",
            "_model_module": "@jupyter-widgets/controls",
            "children": [
              "IPY_MODEL_fe06a25b97af49a99e8e538d851ff687",
              "IPY_MODEL_b7ebfd0cce0b4bf79dd2be9c4a0a9283",
              "IPY_MODEL_344f51ebde404c6597d845f8848f4eac"
            ]
          }
        },
        "1610aeb49966419daa723c13faa133fb": {
          "model_module": "@jupyter-widgets/base",
          "model_name": "LayoutModel",
          "model_module_version": "1.2.0",
          "state": {
            "_view_name": "LayoutView",
            "grid_template_rows": null,
            "right": null,
            "justify_content": null,
            "_view_module": "@jupyter-widgets/base",
            "overflow": null,
            "_model_module_version": "1.2.0",
            "_view_count": null,
            "flex_flow": null,
            "width": null,
            "min_width": null,
            "border": null,
            "align_items": null,
            "bottom": null,
            "_model_module": "@jupyter-widgets/base",
            "top": null,
            "grid_column": null,
            "overflow_y": null,
            "overflow_x": null,
            "grid_auto_flow": null,
            "grid_area": null,
            "grid_template_columns": null,
            "flex": null,
            "_model_name": "LayoutModel",
            "justify_items": null,
            "grid_row": null,
            "max_height": null,
            "align_content": null,
            "visibility": null,
            "align_self": null,
            "height": null,
            "min_height": null,
            "padding": null,
            "grid_auto_rows": null,
            "grid_gap": null,
            "max_width": null,
            "order": null,
            "_view_module_version": "1.2.0",
            "grid_template_areas": null,
            "object_position": null,
            "object_fit": null,
            "grid_auto_columns": null,
            "margin": null,
            "display": null,
            "left": null
          }
        },
        "fe06a25b97af49a99e8e538d851ff687": {
          "model_module": "@jupyter-widgets/controls",
          "model_name": "HTMLModel",
          "model_module_version": "1.5.0",
          "state": {
            "_view_name": "HTMLView",
            "style": "IPY_MODEL_bd3f79e3cb164ae88614249624dda5bf",
            "_dom_classes": [],
            "description": "",
            "_model_name": "HTMLModel",
            "placeholder": "​",
            "_view_module": "@jupyter-widgets/controls",
            "_model_module_version": "1.5.0",
            "value": "Downloading: 100%",
            "_view_count": null,
            "_view_module_version": "1.5.0",
            "description_tooltip": null,
            "_model_module": "@jupyter-widgets/controls",
            "layout": "IPY_MODEL_4cb0a0f3188b4e5d8c07eb2e4e64beef"
          }
        },
        "b7ebfd0cce0b4bf79dd2be9c4a0a9283": {
          "model_module": "@jupyter-widgets/controls",
          "model_name": "FloatProgressModel",
          "model_module_version": "1.5.0",
          "state": {
            "_view_name": "ProgressView",
            "style": "IPY_MODEL_462473a4811a49f3aca29a7f12eadd62",
            "_dom_classes": [],
            "description": "",
            "_model_name": "FloatProgressModel",
            "bar_style": "success",
            "max": 433,
            "_view_module": "@jupyter-widgets/controls",
            "_model_module_version": "1.5.0",
            "value": 433,
            "_view_count": null,
            "_view_module_version": "1.5.0",
            "orientation": "horizontal",
            "min": 0,
            "description_tooltip": null,
            "_model_module": "@jupyter-widgets/controls",
            "layout": "IPY_MODEL_b0b68762389444fa8ef9afdd8c9fce91"
          }
        },
        "344f51ebde404c6597d845f8848f4eac": {
          "model_module": "@jupyter-widgets/controls",
          "model_name": "HTMLModel",
          "model_module_version": "1.5.0",
          "state": {
            "_view_name": "HTMLView",
            "style": "IPY_MODEL_839db09a2ef34dd983c404573415aeac",
            "_dom_classes": [],
            "description": "",
            "_model_name": "HTMLModel",
            "placeholder": "​",
            "_view_module": "@jupyter-widgets/controls",
            "_model_module_version": "1.5.0",
            "value": " 433/433 [00:00&lt;00:00, 8.90kB/s]",
            "_view_count": null,
            "_view_module_version": "1.5.0",
            "description_tooltip": null,
            "_model_module": "@jupyter-widgets/controls",
            "layout": "IPY_MODEL_4a8ed22edcef4beb9b5c2ebc3ac86de6"
          }
        },
        "bd3f79e3cb164ae88614249624dda5bf": {
          "model_module": "@jupyter-widgets/controls",
          "model_name": "DescriptionStyleModel",
          "model_module_version": "1.5.0",
          "state": {
            "_view_name": "StyleView",
            "_model_name": "DescriptionStyleModel",
            "description_width": "",
            "_view_module": "@jupyter-widgets/base",
            "_model_module_version": "1.5.0",
            "_view_count": null,
            "_view_module_version": "1.2.0",
            "_model_module": "@jupyter-widgets/controls"
          }
        },
        "4cb0a0f3188b4e5d8c07eb2e4e64beef": {
          "model_module": "@jupyter-widgets/base",
          "model_name": "LayoutModel",
          "model_module_version": "1.2.0",
          "state": {
            "_view_name": "LayoutView",
            "grid_template_rows": null,
            "right": null,
            "justify_content": null,
            "_view_module": "@jupyter-widgets/base",
            "overflow": null,
            "_model_module_version": "1.2.0",
            "_view_count": null,
            "flex_flow": null,
            "width": null,
            "min_width": null,
            "border": null,
            "align_items": null,
            "bottom": null,
            "_model_module": "@jupyter-widgets/base",
            "top": null,
            "grid_column": null,
            "overflow_y": null,
            "overflow_x": null,
            "grid_auto_flow": null,
            "grid_area": null,
            "grid_template_columns": null,
            "flex": null,
            "_model_name": "LayoutModel",
            "justify_items": null,
            "grid_row": null,
            "max_height": null,
            "align_content": null,
            "visibility": null,
            "align_self": null,
            "height": null,
            "min_height": null,
            "padding": null,
            "grid_auto_rows": null,
            "grid_gap": null,
            "max_width": null,
            "order": null,
            "_view_module_version": "1.2.0",
            "grid_template_areas": null,
            "object_position": null,
            "object_fit": null,
            "grid_auto_columns": null,
            "margin": null,
            "display": null,
            "left": null
          }
        },
        "462473a4811a49f3aca29a7f12eadd62": {
          "model_module": "@jupyter-widgets/controls",
          "model_name": "ProgressStyleModel",
          "model_module_version": "1.5.0",
          "state": {
            "_view_name": "StyleView",
            "_model_name": "ProgressStyleModel",
            "description_width": "",
            "_view_module": "@jupyter-widgets/base",
            "_model_module_version": "1.5.0",
            "_view_count": null,
            "_view_module_version": "1.2.0",
            "bar_color": null,
            "_model_module": "@jupyter-widgets/controls"
          }
        },
        "b0b68762389444fa8ef9afdd8c9fce91": {
          "model_module": "@jupyter-widgets/base",
          "model_name": "LayoutModel",
          "model_module_version": "1.2.0",
          "state": {
            "_view_name": "LayoutView",
            "grid_template_rows": null,
            "right": null,
            "justify_content": null,
            "_view_module": "@jupyter-widgets/base",
            "overflow": null,
            "_model_module_version": "1.2.0",
            "_view_count": null,
            "flex_flow": null,
            "width": null,
            "min_width": null,
            "border": null,
            "align_items": null,
            "bottom": null,
            "_model_module": "@jupyter-widgets/base",
            "top": null,
            "grid_column": null,
            "overflow_y": null,
            "overflow_x": null,
            "grid_auto_flow": null,
            "grid_area": null,
            "grid_template_columns": null,
            "flex": null,
            "_model_name": "LayoutModel",
            "justify_items": null,
            "grid_row": null,
            "max_height": null,
            "align_content": null,
            "visibility": null,
            "align_self": null,
            "height": null,
            "min_height": null,
            "padding": null,
            "grid_auto_rows": null,
            "grid_gap": null,
            "max_width": null,
            "order": null,
            "_view_module_version": "1.2.0",
            "grid_template_areas": null,
            "object_position": null,
            "object_fit": null,
            "grid_auto_columns": null,
            "margin": null,
            "display": null,
            "left": null
          }
        },
        "839db09a2ef34dd983c404573415aeac": {
          "model_module": "@jupyter-widgets/controls",
          "model_name": "DescriptionStyleModel",
          "model_module_version": "1.5.0",
          "state": {
            "_view_name": "StyleView",
            "_model_name": "DescriptionStyleModel",
            "description_width": "",
            "_view_module": "@jupyter-widgets/base",
            "_model_module_version": "1.5.0",
            "_view_count": null,
            "_view_module_version": "1.2.0",
            "_model_module": "@jupyter-widgets/controls"
          }
        },
        "4a8ed22edcef4beb9b5c2ebc3ac86de6": {
          "model_module": "@jupyter-widgets/base",
          "model_name": "LayoutModel",
          "model_module_version": "1.2.0",
          "state": {
            "_view_name": "LayoutView",
            "grid_template_rows": null,
            "right": null,
            "justify_content": null,
            "_view_module": "@jupyter-widgets/base",
            "overflow": null,
            "_model_module_version": "1.2.0",
            "_view_count": null,
            "flex_flow": null,
            "width": null,
            "min_width": null,
            "border": null,
            "align_items": null,
            "bottom": null,
            "_model_module": "@jupyter-widgets/base",
            "top": null,
            "grid_column": null,
            "overflow_y": null,
            "overflow_x": null,
            "grid_auto_flow": null,
            "grid_area": null,
            "grid_template_columns": null,
            "flex": null,
            "_model_name": "LayoutModel",
            "justify_items": null,
            "grid_row": null,
            "max_height": null,
            "align_content": null,
            "visibility": null,
            "align_self": null,
            "height": null,
            "min_height": null,
            "padding": null,
            "grid_auto_rows": null,
            "grid_gap": null,
            "max_width": null,
            "order": null,
            "_view_module_version": "1.2.0",
            "grid_template_areas": null,
            "object_position": null,
            "object_fit": null,
            "grid_auto_columns": null,
            "margin": null,
            "display": null,
            "left": null
          }
        },
        "a656c7cfeafe4c7781e44fb75508f8d6": {
          "model_module": "@jupyter-widgets/controls",
          "model_name": "HBoxModel",
          "model_module_version": "1.5.0",
          "state": {
            "_view_name": "HBoxView",
            "_dom_classes": [],
            "_model_name": "HBoxModel",
            "_view_module": "@jupyter-widgets/controls",
            "_model_module_version": "1.5.0",
            "_view_count": null,
            "_view_module_version": "1.5.0",
            "box_style": "",
            "layout": "IPY_MODEL_096578a177b64277a08ac09481265096",
            "_model_module": "@jupyter-widgets/controls",
            "children": [
              "IPY_MODEL_08709732ccc0430985893c0c95c8fdc5",
              "IPY_MODEL_b26c985e7c074c758aa904034625c657",
              "IPY_MODEL_1f32e1815ce24fb49854f2f3b0f9e94c"
            ]
          }
        },
        "096578a177b64277a08ac09481265096": {
          "model_module": "@jupyter-widgets/base",
          "model_name": "LayoutModel",
          "model_module_version": "1.2.0",
          "state": {
            "_view_name": "LayoutView",
            "grid_template_rows": null,
            "right": null,
            "justify_content": null,
            "_view_module": "@jupyter-widgets/base",
            "overflow": null,
            "_model_module_version": "1.2.0",
            "_view_count": null,
            "flex_flow": null,
            "width": null,
            "min_width": null,
            "border": null,
            "align_items": null,
            "bottom": null,
            "_model_module": "@jupyter-widgets/base",
            "top": null,
            "grid_column": null,
            "overflow_y": null,
            "overflow_x": null,
            "grid_auto_flow": null,
            "grid_area": null,
            "grid_template_columns": null,
            "flex": null,
            "_model_name": "LayoutModel",
            "justify_items": null,
            "grid_row": null,
            "max_height": null,
            "align_content": null,
            "visibility": null,
            "align_self": null,
            "height": null,
            "min_height": null,
            "padding": null,
            "grid_auto_rows": null,
            "grid_gap": null,
            "max_width": null,
            "order": null,
            "_view_module_version": "1.2.0",
            "grid_template_areas": null,
            "object_position": null,
            "object_fit": null,
            "grid_auto_columns": null,
            "margin": null,
            "display": null,
            "left": null
          }
        },
        "08709732ccc0430985893c0c95c8fdc5": {
          "model_module": "@jupyter-widgets/controls",
          "model_name": "HTMLModel",
          "model_module_version": "1.5.0",
          "state": {
            "_view_name": "HTMLView",
            "style": "IPY_MODEL_4f58318fbe83415692638eb24f19ddca",
            "_dom_classes": [],
            "description": "",
            "_model_name": "HTMLModel",
            "placeholder": "​",
            "_view_module": "@jupyter-widgets/controls",
            "_model_module_version": "1.5.0",
            "value": "Downloading: 100%",
            "_view_count": null,
            "_view_module_version": "1.5.0",
            "description_tooltip": null,
            "_model_module": "@jupyter-widgets/controls",
            "layout": "IPY_MODEL_d69e4c112df645328942e2e323878e56"
          }
        },
        "b26c985e7c074c758aa904034625c657": {
          "model_module": "@jupyter-widgets/controls",
          "model_name": "FloatProgressModel",
          "model_module_version": "1.5.0",
          "state": {
            "_view_name": "ProgressView",
            "style": "IPY_MODEL_1839768ec3c64b4ca4d31581789a10e4",
            "_dom_classes": [],
            "description": "",
            "_model_name": "FloatProgressModel",
            "bar_style": "success",
            "max": 235127,
            "_view_module": "@jupyter-widgets/controls",
            "_model_module_version": "1.5.0",
            "value": 235127,
            "_view_count": null,
            "_view_module_version": "1.5.0",
            "orientation": "horizontal",
            "min": 0,
            "description_tooltip": null,
            "_model_module": "@jupyter-widgets/controls",
            "layout": "IPY_MODEL_c8b7c10a203544ab9f2a32029a718328"
          }
        },
        "1f32e1815ce24fb49854f2f3b0f9e94c": {
          "model_module": "@jupyter-widgets/controls",
          "model_name": "HTMLModel",
          "model_module_version": "1.5.0",
          "state": {
            "_view_name": "HTMLView",
            "style": "IPY_MODEL_5df257f9646446549c8494ffa839346c",
            "_dom_classes": [],
            "description": "",
            "_model_name": "HTMLModel",
            "placeholder": "​",
            "_view_module": "@jupyter-widgets/controls",
            "_model_module_version": "1.5.0",
            "value": " 230k/230k [00:00&lt;00:00, 967kB/s]",
            "_view_count": null,
            "_view_module_version": "1.5.0",
            "description_tooltip": null,
            "_model_module": "@jupyter-widgets/controls",
            "layout": "IPY_MODEL_ef9639da694b45d48ef574ec3389036a"
          }
        },
        "4f58318fbe83415692638eb24f19ddca": {
          "model_module": "@jupyter-widgets/controls",
          "model_name": "DescriptionStyleModel",
          "model_module_version": "1.5.0",
          "state": {
            "_view_name": "StyleView",
            "_model_name": "DescriptionStyleModel",
            "description_width": "",
            "_view_module": "@jupyter-widgets/base",
            "_model_module_version": "1.5.0",
            "_view_count": null,
            "_view_module_version": "1.2.0",
            "_model_module": "@jupyter-widgets/controls"
          }
        },
        "d69e4c112df645328942e2e323878e56": {
          "model_module": "@jupyter-widgets/base",
          "model_name": "LayoutModel",
          "model_module_version": "1.2.0",
          "state": {
            "_view_name": "LayoutView",
            "grid_template_rows": null,
            "right": null,
            "justify_content": null,
            "_view_module": "@jupyter-widgets/base",
            "overflow": null,
            "_model_module_version": "1.2.0",
            "_view_count": null,
            "flex_flow": null,
            "width": null,
            "min_width": null,
            "border": null,
            "align_items": null,
            "bottom": null,
            "_model_module": "@jupyter-widgets/base",
            "top": null,
            "grid_column": null,
            "overflow_y": null,
            "overflow_x": null,
            "grid_auto_flow": null,
            "grid_area": null,
            "grid_template_columns": null,
            "flex": null,
            "_model_name": "LayoutModel",
            "justify_items": null,
            "grid_row": null,
            "max_height": null,
            "align_content": null,
            "visibility": null,
            "align_self": null,
            "height": null,
            "min_height": null,
            "padding": null,
            "grid_auto_rows": null,
            "grid_gap": null,
            "max_width": null,
            "order": null,
            "_view_module_version": "1.2.0",
            "grid_template_areas": null,
            "object_position": null,
            "object_fit": null,
            "grid_auto_columns": null,
            "margin": null,
            "display": null,
            "left": null
          }
        },
        "1839768ec3c64b4ca4d31581789a10e4": {
          "model_module": "@jupyter-widgets/controls",
          "model_name": "ProgressStyleModel",
          "model_module_version": "1.5.0",
          "state": {
            "_view_name": "StyleView",
            "_model_name": "ProgressStyleModel",
            "description_width": "",
            "_view_module": "@jupyter-widgets/base",
            "_model_module_version": "1.5.0",
            "_view_count": null,
            "_view_module_version": "1.2.0",
            "bar_color": null,
            "_model_module": "@jupyter-widgets/controls"
          }
        },
        "c8b7c10a203544ab9f2a32029a718328": {
          "model_module": "@jupyter-widgets/base",
          "model_name": "LayoutModel",
          "model_module_version": "1.2.0",
          "state": {
            "_view_name": "LayoutView",
            "grid_template_rows": null,
            "right": null,
            "justify_content": null,
            "_view_module": "@jupyter-widgets/base",
            "overflow": null,
            "_model_module_version": "1.2.0",
            "_view_count": null,
            "flex_flow": null,
            "width": null,
            "min_width": null,
            "border": null,
            "align_items": null,
            "bottom": null,
            "_model_module": "@jupyter-widgets/base",
            "top": null,
            "grid_column": null,
            "overflow_y": null,
            "overflow_x": null,
            "grid_auto_flow": null,
            "grid_area": null,
            "grid_template_columns": null,
            "flex": null,
            "_model_name": "LayoutModel",
            "justify_items": null,
            "grid_row": null,
            "max_height": null,
            "align_content": null,
            "visibility": null,
            "align_self": null,
            "height": null,
            "min_height": null,
            "padding": null,
            "grid_auto_rows": null,
            "grid_gap": null,
            "max_width": null,
            "order": null,
            "_view_module_version": "1.2.0",
            "grid_template_areas": null,
            "object_position": null,
            "object_fit": null,
            "grid_auto_columns": null,
            "margin": null,
            "display": null,
            "left": null
          }
        },
        "5df257f9646446549c8494ffa839346c": {
          "model_module": "@jupyter-widgets/controls",
          "model_name": "DescriptionStyleModel",
          "model_module_version": "1.5.0",
          "state": {
            "_view_name": "StyleView",
            "_model_name": "DescriptionStyleModel",
            "description_width": "",
            "_view_module": "@jupyter-widgets/base",
            "_model_module_version": "1.5.0",
            "_view_count": null,
            "_view_module_version": "1.2.0",
            "_model_module": "@jupyter-widgets/controls"
          }
        },
        "ef9639da694b45d48ef574ec3389036a": {
          "model_module": "@jupyter-widgets/base",
          "model_name": "LayoutModel",
          "model_module_version": "1.2.0",
          "state": {
            "_view_name": "LayoutView",
            "grid_template_rows": null,
            "right": null,
            "justify_content": null,
            "_view_module": "@jupyter-widgets/base",
            "overflow": null,
            "_model_module_version": "1.2.0",
            "_view_count": null,
            "flex_flow": null,
            "width": null,
            "min_width": null,
            "border": null,
            "align_items": null,
            "bottom": null,
            "_model_module": "@jupyter-widgets/base",
            "top": null,
            "grid_column": null,
            "overflow_y": null,
            "overflow_x": null,
            "grid_auto_flow": null,
            "grid_area": null,
            "grid_template_columns": null,
            "flex": null,
            "_model_name": "LayoutModel",
            "justify_items": null,
            "grid_row": null,
            "max_height": null,
            "align_content": null,
            "visibility": null,
            "align_self": null,
            "height": null,
            "min_height": null,
            "padding": null,
            "grid_auto_rows": null,
            "grid_gap": null,
            "max_width": null,
            "order": null,
            "_view_module_version": "1.2.0",
            "grid_template_areas": null,
            "object_position": null,
            "object_fit": null,
            "grid_auto_columns": null,
            "margin": null,
            "display": null,
            "left": null
          }
        },
        "f3523acd4dba4b9d9c3da24756240b5e": {
          "model_module": "@jupyter-widgets/controls",
          "model_name": "HBoxModel",
          "model_module_version": "1.5.0",
          "state": {
            "_view_name": "HBoxView",
            "_dom_classes": [],
            "_model_name": "HBoxModel",
            "_view_module": "@jupyter-widgets/controls",
            "_model_module_version": "1.5.0",
            "_view_count": null,
            "_view_module_version": "1.5.0",
            "box_style": "",
            "layout": "IPY_MODEL_2d0dba73a52c40d4b0ea28c327065f9e",
            "_model_module": "@jupyter-widgets/controls",
            "children": [
              "IPY_MODEL_c2c9c5667ba44d709757a455340ff2d6",
              "IPY_MODEL_4110561016a24b3f8c6e68fbf7b9cd74",
              "IPY_MODEL_af9dda9df58e408c866fadbbb7a21fc6"
            ]
          }
        },
        "2d0dba73a52c40d4b0ea28c327065f9e": {
          "model_module": "@jupyter-widgets/base",
          "model_name": "LayoutModel",
          "model_module_version": "1.2.0",
          "state": {
            "_view_name": "LayoutView",
            "grid_template_rows": null,
            "right": null,
            "justify_content": null,
            "_view_module": "@jupyter-widgets/base",
            "overflow": null,
            "_model_module_version": "1.2.0",
            "_view_count": null,
            "flex_flow": null,
            "width": null,
            "min_width": null,
            "border": null,
            "align_items": null,
            "bottom": null,
            "_model_module": "@jupyter-widgets/base",
            "top": null,
            "grid_column": null,
            "overflow_y": null,
            "overflow_x": null,
            "grid_auto_flow": null,
            "grid_area": null,
            "grid_template_columns": null,
            "flex": null,
            "_model_name": "LayoutModel",
            "justify_items": null,
            "grid_row": null,
            "max_height": null,
            "align_content": null,
            "visibility": null,
            "align_self": null,
            "height": null,
            "min_height": null,
            "padding": null,
            "grid_auto_rows": null,
            "grid_gap": null,
            "max_width": null,
            "order": null,
            "_view_module_version": "1.2.0",
            "grid_template_areas": null,
            "object_position": null,
            "object_fit": null,
            "grid_auto_columns": null,
            "margin": null,
            "display": null,
            "left": null
          }
        },
        "c2c9c5667ba44d709757a455340ff2d6": {
          "model_module": "@jupyter-widgets/controls",
          "model_name": "HTMLModel",
          "model_module_version": "1.5.0",
          "state": {
            "_view_name": "HTMLView",
            "style": "IPY_MODEL_00215da3f08542eb8e6ef50b055727a4",
            "_dom_classes": [],
            "description": "",
            "_model_name": "HTMLModel",
            "placeholder": "​",
            "_view_module": "@jupyter-widgets/controls",
            "_model_module_version": "1.5.0",
            "value": "Downloading: 100%",
            "_view_count": null,
            "_view_module_version": "1.5.0",
            "description_tooltip": null,
            "_model_module": "@jupyter-widgets/controls",
            "layout": "IPY_MODEL_6e9b9ab7ce9f4688917d91f4cefd5fdf"
          }
        },
        "4110561016a24b3f8c6e68fbf7b9cd74": {
          "model_module": "@jupyter-widgets/controls",
          "model_name": "FloatProgressModel",
          "model_module_version": "1.5.0",
          "state": {
            "_view_name": "ProgressView",
            "style": "IPY_MODEL_b6010a6a15f04527a523cbd85fb4ab63",
            "_dom_classes": [],
            "description": "",
            "_model_name": "FloatProgressModel",
            "bar_style": "success",
            "max": 445332122,
            "_view_module": "@jupyter-widgets/controls",
            "_model_module_version": "1.5.0",
            "value": 445332122,
            "_view_count": null,
            "_view_module_version": "1.5.0",
            "orientation": "horizontal",
            "min": 0,
            "description_tooltip": null,
            "_model_module": "@jupyter-widgets/controls",
            "layout": "IPY_MODEL_d58a591ad1fd4b23a72cd5fdd76e3767"
          }
        },
        "af9dda9df58e408c866fadbbb7a21fc6": {
          "model_module": "@jupyter-widgets/controls",
          "model_name": "HTMLModel",
          "model_module_version": "1.5.0",
          "state": {
            "_view_name": "HTMLView",
            "style": "IPY_MODEL_2e8e7365c02e4295b6ec633d11860534",
            "_dom_classes": [],
            "description": "",
            "_model_name": "HTMLModel",
            "placeholder": "​",
            "_view_module": "@jupyter-widgets/controls",
            "_model_module_version": "1.5.0",
            "value": " 425M/425M [00:14&lt;00:00, 34.6MB/s]",
            "_view_count": null,
            "_view_module_version": "1.5.0",
            "description_tooltip": null,
            "_model_module": "@jupyter-widgets/controls",
            "layout": "IPY_MODEL_14d9239f9a31447780a11c39f15b8d8a"
          }
        },
        "00215da3f08542eb8e6ef50b055727a4": {
          "model_module": "@jupyter-widgets/controls",
          "model_name": "DescriptionStyleModel",
          "model_module_version": "1.5.0",
          "state": {
            "_view_name": "StyleView",
            "_model_name": "DescriptionStyleModel",
            "description_width": "",
            "_view_module": "@jupyter-widgets/base",
            "_model_module_version": "1.5.0",
            "_view_count": null,
            "_view_module_version": "1.2.0",
            "_model_module": "@jupyter-widgets/controls"
          }
        },
        "6e9b9ab7ce9f4688917d91f4cefd5fdf": {
          "model_module": "@jupyter-widgets/base",
          "model_name": "LayoutModel",
          "model_module_version": "1.2.0",
          "state": {
            "_view_name": "LayoutView",
            "grid_template_rows": null,
            "right": null,
            "justify_content": null,
            "_view_module": "@jupyter-widgets/base",
            "overflow": null,
            "_model_module_version": "1.2.0",
            "_view_count": null,
            "flex_flow": null,
            "width": null,
            "min_width": null,
            "border": null,
            "align_items": null,
            "bottom": null,
            "_model_module": "@jupyter-widgets/base",
            "top": null,
            "grid_column": null,
            "overflow_y": null,
            "overflow_x": null,
            "grid_auto_flow": null,
            "grid_area": null,
            "grid_template_columns": null,
            "flex": null,
            "_model_name": "LayoutModel",
            "justify_items": null,
            "grid_row": null,
            "max_height": null,
            "align_content": null,
            "visibility": null,
            "align_self": null,
            "height": null,
            "min_height": null,
            "padding": null,
            "grid_auto_rows": null,
            "grid_gap": null,
            "max_width": null,
            "order": null,
            "_view_module_version": "1.2.0",
            "grid_template_areas": null,
            "object_position": null,
            "object_fit": null,
            "grid_auto_columns": null,
            "margin": null,
            "display": null,
            "left": null
          }
        },
        "b6010a6a15f04527a523cbd85fb4ab63": {
          "model_module": "@jupyter-widgets/controls",
          "model_name": "ProgressStyleModel",
          "model_module_version": "1.5.0",
          "state": {
            "_view_name": "StyleView",
            "_model_name": "ProgressStyleModel",
            "description_width": "",
            "_view_module": "@jupyter-widgets/base",
            "_model_module_version": "1.5.0",
            "_view_count": null,
            "_view_module_version": "1.2.0",
            "bar_color": null,
            "_model_module": "@jupyter-widgets/controls"
          }
        },
        "d58a591ad1fd4b23a72cd5fdd76e3767": {
          "model_module": "@jupyter-widgets/base",
          "model_name": "LayoutModel",
          "model_module_version": "1.2.0",
          "state": {
            "_view_name": "LayoutView",
            "grid_template_rows": null,
            "right": null,
            "justify_content": null,
            "_view_module": "@jupyter-widgets/base",
            "overflow": null,
            "_model_module_version": "1.2.0",
            "_view_count": null,
            "flex_flow": null,
            "width": null,
            "min_width": null,
            "border": null,
            "align_items": null,
            "bottom": null,
            "_model_module": "@jupyter-widgets/base",
            "top": null,
            "grid_column": null,
            "overflow_y": null,
            "overflow_x": null,
            "grid_auto_flow": null,
            "grid_area": null,
            "grid_template_columns": null,
            "flex": null,
            "_model_name": "LayoutModel",
            "justify_items": null,
            "grid_row": null,
            "max_height": null,
            "align_content": null,
            "visibility": null,
            "align_self": null,
            "height": null,
            "min_height": null,
            "padding": null,
            "grid_auto_rows": null,
            "grid_gap": null,
            "max_width": null,
            "order": null,
            "_view_module_version": "1.2.0",
            "grid_template_areas": null,
            "object_position": null,
            "object_fit": null,
            "grid_auto_columns": null,
            "margin": null,
            "display": null,
            "left": null
          }
        },
        "2e8e7365c02e4295b6ec633d11860534": {
          "model_module": "@jupyter-widgets/controls",
          "model_name": "DescriptionStyleModel",
          "model_module_version": "1.5.0",
          "state": {
            "_view_name": "StyleView",
            "_model_name": "DescriptionStyleModel",
            "description_width": "",
            "_view_module": "@jupyter-widgets/base",
            "_model_module_version": "1.5.0",
            "_view_count": null,
            "_view_module_version": "1.2.0",
            "_model_module": "@jupyter-widgets/controls"
          }
        },
        "14d9239f9a31447780a11c39f15b8d8a": {
          "model_module": "@jupyter-widgets/base",
          "model_name": "LayoutModel",
          "model_module_version": "1.2.0",
          "state": {
            "_view_name": "LayoutView",
            "grid_template_rows": null,
            "right": null,
            "justify_content": null,
            "_view_module": "@jupyter-widgets/base",
            "overflow": null,
            "_model_module_version": "1.2.0",
            "_view_count": null,
            "flex_flow": null,
            "width": null,
            "min_width": null,
            "border": null,
            "align_items": null,
            "bottom": null,
            "_model_module": "@jupyter-widgets/base",
            "top": null,
            "grid_column": null,
            "overflow_y": null,
            "overflow_x": null,
            "grid_auto_flow": null,
            "grid_area": null,
            "grid_template_columns": null,
            "flex": null,
            "_model_name": "LayoutModel",
            "justify_items": null,
            "grid_row": null,
            "max_height": null,
            "align_content": null,
            "visibility": null,
            "align_self": null,
            "height": null,
            "min_height": null,
            "padding": null,
            "grid_auto_rows": null,
            "grid_gap": null,
            "max_width": null,
            "order": null,
            "_view_module_version": "1.2.0",
            "grid_template_areas": null,
            "object_position": null,
            "object_fit": null,
            "grid_auto_columns": null,
            "margin": null,
            "display": null,
            "left": null
          }
        }
      }
    }
  },
  "cells": [
    {
      "cell_type": "markdown",
      "metadata": {
        "id": "PNjplb8hUZpr"
      },
      "source": [
        "# (Colab)"
      ]
    },
    {
      "cell_type": "code",
      "metadata": {
        "id": "lxHP-sEnUXsD",
        "colab": {
          "base_uri": "https://localhost:8080/"
        },
        "outputId": "c870ba20-a154-4bd7-99b1-173cd6afd82a"
      },
      "source": [
        "from google.colab import drive\n",
        "drive.mount('/content/drive')"
      ],
      "execution_count": null,
      "outputs": [
        {
          "output_type": "stream",
          "name": "stdout",
          "text": [
            "Mounted at /content/drive\n"
          ]
        }
      ]
    },
    {
      "cell_type": "code",
      "metadata": {
        "id": "zkcNgbC-UYnb",
        "colab": {
          "base_uri": "https://localhost:8080/"
        },
        "outputId": "86753ca2-c7d2-44a7-f162-d5a96331a435"
      },
      "source": [
        "!pip install transformers"
      ],
      "execution_count": null,
      "outputs": [
        {
          "output_type": "stream",
          "name": "stdout",
          "text": [
            "Collecting transformers\n",
            "  Downloading transformers-4.12.3-py3-none-any.whl (3.1 MB)\n",
            "\u001b[K     |████████████████████████████████| 3.1 MB 5.3 MB/s \n",
            "\u001b[?25hRequirement already satisfied: numpy>=1.17 in /usr/local/lib/python3.7/dist-packages (from transformers) (1.19.5)\n",
            "Requirement already satisfied: tqdm>=4.27 in /usr/local/lib/python3.7/dist-packages (from transformers) (4.62.3)\n",
            "Collecting tokenizers<0.11,>=0.10.1\n",
            "  Downloading tokenizers-0.10.3-cp37-cp37m-manylinux_2_5_x86_64.manylinux1_x86_64.manylinux_2_12_x86_64.manylinux2010_x86_64.whl (3.3 MB)\n",
            "\u001b[K     |████████████████████████████████| 3.3 MB 36.6 MB/s \n",
            "\u001b[?25hRequirement already satisfied: filelock in /usr/local/lib/python3.7/dist-packages (from transformers) (3.3.0)\n",
            "Requirement already satisfied: packaging>=20.0 in /usr/local/lib/python3.7/dist-packages (from transformers) (21.0)\n",
            "Collecting sacremoses\n",
            "  Downloading sacremoses-0.0.46-py3-none-any.whl (895 kB)\n",
            "\u001b[K     |████████████████████████████████| 895 kB 40.2 MB/s \n",
            "\u001b[?25hCollecting huggingface-hub<1.0,>=0.1.0\n",
            "  Downloading huggingface_hub-0.1.1-py3-none-any.whl (59 kB)\n",
            "\u001b[K     |████████████████████████████████| 59 kB 6.3 MB/s \n",
            "\u001b[?25hCollecting pyyaml>=5.1\n",
            "  Downloading PyYAML-6.0-cp37-cp37m-manylinux_2_5_x86_64.manylinux1_x86_64.manylinux_2_12_x86_64.manylinux2010_x86_64.whl (596 kB)\n",
            "\u001b[K     |████████████████████████████████| 596 kB 50.7 MB/s \n",
            "\u001b[?25hRequirement already satisfied: importlib-metadata in /usr/local/lib/python3.7/dist-packages (from transformers) (4.8.1)\n",
            "Requirement already satisfied: regex!=2019.12.17 in /usr/local/lib/python3.7/dist-packages (from transformers) (2019.12.20)\n",
            "Requirement already satisfied: requests in /usr/local/lib/python3.7/dist-packages (from transformers) (2.23.0)\n",
            "Requirement already satisfied: typing-extensions>=3.7.4.3 in /usr/local/lib/python3.7/dist-packages (from huggingface-hub<1.0,>=0.1.0->transformers) (3.7.4.3)\n",
            "Requirement already satisfied: pyparsing>=2.0.2 in /usr/local/lib/python3.7/dist-packages (from packaging>=20.0->transformers) (2.4.7)\n",
            "Requirement already satisfied: zipp>=0.5 in /usr/local/lib/python3.7/dist-packages (from importlib-metadata->transformers) (3.6.0)\n",
            "Requirement already satisfied: certifi>=2017.4.17 in /usr/local/lib/python3.7/dist-packages (from requests->transformers) (2021.5.30)\n",
            "Requirement already satisfied: idna<3,>=2.5 in /usr/local/lib/python3.7/dist-packages (from requests->transformers) (2.10)\n",
            "Requirement already satisfied: chardet<4,>=3.0.2 in /usr/local/lib/python3.7/dist-packages (from requests->transformers) (3.0.4)\n",
            "Requirement already satisfied: urllib3!=1.25.0,!=1.25.1,<1.26,>=1.21.1 in /usr/local/lib/python3.7/dist-packages (from requests->transformers) (1.24.3)\n",
            "Requirement already satisfied: click in /usr/local/lib/python3.7/dist-packages (from sacremoses->transformers) (7.1.2)\n",
            "Requirement already satisfied: joblib in /usr/local/lib/python3.7/dist-packages (from sacremoses->transformers) (1.0.1)\n",
            "Requirement already satisfied: six in /usr/local/lib/python3.7/dist-packages (from sacremoses->transformers) (1.15.0)\n",
            "Installing collected packages: pyyaml, tokenizers, sacremoses, huggingface-hub, transformers\n",
            "  Attempting uninstall: pyyaml\n",
            "    Found existing installation: PyYAML 3.13\n",
            "    Uninstalling PyYAML-3.13:\n",
            "      Successfully uninstalled PyYAML-3.13\n",
            "Successfully installed huggingface-hub-0.1.1 pyyaml-6.0 sacremoses-0.0.46 tokenizers-0.10.3 transformers-4.12.3\n"
          ]
        }
      ]
    },
    {
      "cell_type": "code",
      "metadata": {
        "id": "CzkksljvUYth"
      },
      "source": [
        "dir_path = \"/content/drive/My Drive/Tirocinio NLP e tesi\""
      ],
      "execution_count": null,
      "outputs": []
    },
    {
      "cell_type": "markdown",
      "metadata": {
        "id": "IstUncLKUKfh"
      },
      "source": [
        "# Imports"
      ]
    },
    {
      "cell_type": "code",
      "metadata": {
        "id": "IrA8N2VGUKfx"
      },
      "source": [
        "import copy"
      ],
      "execution_count": null,
      "outputs": []
    },
    {
      "cell_type": "code",
      "metadata": {
        "id": "MjVL-UZMUKf0"
      },
      "source": [
        "from sklearn.model_selection import train_test_split"
      ],
      "execution_count": null,
      "outputs": []
    },
    {
      "cell_type": "code",
      "metadata": {
        "id": "28og2JwpxtiR"
      },
      "source": [
        "from sklearn.metrics import classification_report, confusion_matrix, f1_score"
      ],
      "execution_count": null,
      "outputs": []
    },
    {
      "cell_type": "code",
      "metadata": {
        "id": "eSGKSMzbUKf2"
      },
      "source": [
        "from transformers import AutoTokenizer, AutoModel"
      ],
      "execution_count": null,
      "outputs": []
    },
    {
      "cell_type": "code",
      "metadata": {
        "id": "u95je2_Fb67g"
      },
      "source": [
        "import torch\n",
        "import random\n",
        "import numpy as np\n",
        "import pandas as pd\n",
        "import re\n",
        "import os\n",
        "import itertools"
      ],
      "execution_count": null,
      "outputs": []
    },
    {
      "cell_type": "markdown",
      "metadata": {
        "id": "iq8ZBirAUKgh"
      },
      "source": [
        "# Reproducibility"
      ]
    },
    {
      "cell_type": "code",
      "metadata": {
        "id": "E01ZV8mDUKgi"
      },
      "source": [
        "device = 'cuda' if torch.cuda.is_available() else 'cpu'\n",
        "\n",
        "def make_reproducible():\n",
        "    torch.manual_seed(0)\n",
        "    torch.backends.cudnn.benchmark = False\n",
        "    torch.use_deterministic_algorithms(True)\n",
        "    random.seed(0)\n",
        "    np.random.seed(0)\n",
        "    if device == 'cuda':\n",
        "        os.environ['CUBLAS_WORKSPACE_CONFIG'] = \":16:8\"\n",
        "make_reproducible()"
      ],
      "execution_count": null,
      "outputs": []
    },
    {
      "cell_type": "markdown",
      "metadata": {
        "id": "UqRgp_AaUKf5"
      },
      "source": [
        "# Functions"
      ]
    },
    {
      "cell_type": "markdown",
      "metadata": {
        "id": "HLAg4WaCcuGc"
      },
      "source": [
        "### Data loading"
      ]
    },
    {
      "cell_type": "code",
      "metadata": {
        "id": "sceRqH2TO7Vy"
      },
      "source": [
        "def load_data(goal_class, goal_phen, data_folder_path):\n",
        "    if goal_class not in ('cue','scope'):\n",
        "        raise ValueError(\"'goal_class' must be either 'cue' or 'scope'.\")\n",
        "    if goal_phen not in ('neg','spec'):\n",
        "        raise ValueError(\"'goal_phen' must be either 'neg' or 'spec'.\")\n",
        "    \n",
        "    def check_and_augment_data(begin_cue, inside_cue, begin_augment, inside_augment, cues, sentence_labels, sentence, token_ids, sentences, labels):\n",
        "        if begin_cue in cues:\n",
        "            unique_values = [] # used a list to preserve order across executions for reproducibility\n",
        "            for scope in sentence_labels:\n",
        "                for individual_scope in scope.split(','):\n",
        "                    individual_scope = individual_scope.strip().strip('\\n').strip()\n",
        "                    if individual_scope != '_' and individual_scope not in unique_values:\n",
        "                        unique_values.append(individual_scope)\n",
        "            for value in sorted(unique_values):\n",
        "                sentence_augmented = copy.deepcopy(sentence)\n",
        "                sentence_augmented[token_ids.index(value)] = begin_augment + sentence[token_ids.index(value)] # replaced token_ids.index(value) with int(value)-1\n",
        "                counter = 1\n",
        "                for cue in cues[int(value):]:                      \n",
        "                    if cue == begin_cue:\n",
        "                        break\n",
        "                    elif cue == inside_cue:\n",
        "                        sentence_augmented[token_ids.index(value)+counter] = inside_augment + sentence[token_ids.index(value)+counter] # replaced token_ids.index(value) with int(value)-1\n",
        "                    counter += 1\n",
        "                sentences.append(sentence_augmented)\n",
        "                scopes = []\n",
        "                for scope in sentence_labels:\n",
        "                    if str(value) in [individual_scope.strip().strip('\\n').strip() for individual_scope in scope.split(',')]:\n",
        "                        scopes.append(1)\n",
        "                    else:\n",
        "                        scopes.append(0)\n",
        "                labels.append(scopes)\n",
        "        return sentences, labels\n",
        "    \n",
        "    sentences = []\n",
        "    labels = []\n",
        "\n",
        "    if goal_class == 'cue':\n",
        "        if goal_phen == 'neg': class_index = 10\n",
        "        else: class_index = 12\n",
        "        for filepath in [file.path for file in os.scandir(data_folder_path) if file.name.endswith('tsv')]:\n",
        "            with open(filepath, 'r', encoding='utf-8') as file:\n",
        "                file.readline() #throw away headers\n",
        "                sentence = []\n",
        "                sentence_labels = []\n",
        "                for line in file:\n",
        "                    if line[0] != '#':\n",
        "                        split_line = line.split('\\t')\n",
        "                        if ('-' not in split_line[0]) and ('DESCR.' not in split_line[class_index]):\n",
        "                            sentence.append(split_line[1])\n",
        "                            sentence_labels.append(split_line[class_index])\n",
        "                    elif line[0] == '#' and len(sentence)>0:\n",
        "                        sentences.append(sentence)\n",
        "                        labels.append(sentence_labels)\n",
        "                        sentence = []\n",
        "                        sentence_labels = []\n",
        "                sentences.append(sentence)\n",
        "                labels.append(sentence_labels)\n",
        "\n",
        "    elif goal_class == 'scope':\n",
        "        if goal_phen == 'neg': \n",
        "            class_index = 11\n",
        "            begin_cue = 'BN'\n",
        "            inside_cue = 'IN'\n",
        "            begin_augment = \"token[B-NEG]\"\n",
        "            inside_augment = \"token[I-NEG]\"\n",
        "        else:\n",
        "            class_index = 13\n",
        "            begin_cue = 'BS'\n",
        "            inside_cue = 'IS'\n",
        "            begin_augment = \"token[B-SPEC]\"\n",
        "            inside_augment = \"token[I-SPEC]\"\n",
        "        for filepath in [file.path for file in os.scandir(data_folder_path) if file.name.endswith('tsv')]:\n",
        "            with open(filepath, 'r', encoding='utf-8') as file:\n",
        "                file.readline() #throw away headers\n",
        "                sentence = []\n",
        "                sentence_labels = []\n",
        "                token_ids = []\n",
        "                cues = []\n",
        "                for line in file:\n",
        "                    if line[0] != '#':\n",
        "                        split_line = line.split('\\t')\n",
        "                        if ('-' not in split_line[0]) and ('DESCR.' not in split_line[class_index]):\n",
        "                            token_ids.append(split_line[0])\n",
        "                            sentence.append(split_line[1])\n",
        "                            cues.append(split_line[class_index-1])\n",
        "                            sentence_labels.append(split_line[class_index])\n",
        "                    elif (line[0] == '#') and (len(sentence)>0):\n",
        "                        sentences, labels = check_and_augment_data(begin_cue, inside_cue, begin_augment, inside_augment, cues, sentence_labels, sentence, token_ids, sentences, labels)\n",
        "                        sentence = []\n",
        "                        sentence_labels = []\n",
        "                        token_ids = []\n",
        "                        cues = []\n",
        "                sentences, labels = check_and_augment_data(begin_cue, inside_cue, begin_augment, inside_augment, cues, sentence_labels, sentence, token_ids, sentences, labels)\n",
        "\n",
        "    return sentences, labels"
      ],
      "execution_count": null,
      "outputs": []
    },
    {
      "cell_type": "code",
      "metadata": {
        "id": "YY7Z4OkDmrm1"
      },
      "source": [
        "def load_undersampled_data(data_folder_path, goal_class = 'cue', goal_phen = 'spec', num_zero_sentences = 0):  \n",
        "    sentences = []\n",
        "    labels = []\n",
        "    undersampling_counter = 0\n",
        "    \n",
        "    if goal_class == 'cue':\n",
        "        if goal_phen == 'neg': raise NotImplementedError()\n",
        "        else: class_index = 12\n",
        "        for filepath in [file.path for file in os.scandir(data_folder_path) if file.name.ensdwith('tsv')]:\n",
        "            with open(filepath, 'r', encoding='utf-8') as file:\n",
        "                file.readline() #throw away headers\n",
        "                sentence = []\n",
        "                sentence_labels = []\n",
        "                for line in file:\n",
        "                    if line[0] != '#':\n",
        "                        split_line = line.split('\\t')\n",
        "                        if '-' not in split_line[0] and 'DESCR.' not in split_line[class_index]:\n",
        "                            sentence.append(split_line[1])\n",
        "                            sentence_labels.append(split_line[class_index])\n",
        "                    elif line[0] == '#' and len(sentence)>0:\n",
        "                        if 'BS' in sentence_labels:\n",
        "                            sentences.append(sentence)\n",
        "                            labels.append(sentence_labels)\n",
        "                        elif undersampling_counter < num_zero_sentences:\n",
        "                            sentences.append(sentence)\n",
        "                            labels.append(sentence_labels)\n",
        "                            undersampling_counter += 1\n",
        "                        sentence = []\n",
        "                        sentence_labels = []\n",
        "                if 'BS' in sentence_labels:\n",
        "                    sentences.append(sentence)\n",
        "                    labels.append(sentence_labels)\n",
        "                elif undersampling_counter < num_zero_sentences:\n",
        "                        sentences.append(sentence)\n",
        "                        labels.append(sentence_labels)\n",
        "\n",
        "    else: raise NotImplementedError()\n",
        "\n",
        "    return sentences, labels"
      ],
      "execution_count": null,
      "outputs": []
    },
    {
      "cell_type": "markdown",
      "metadata": {
        "id": "htpz0ixGUKgD"
      },
      "source": [
        "### Label mapping (for cue detection)"
      ]
    },
    {
      "cell_type": "code",
      "metadata": {
        "id": "r1dk1vKTUKgE"
      },
      "source": [
        "def label_mapping(labels):\n",
        "    unique_values = set()\n",
        "    for label_list in labels:\n",
        "        for label in label_list:\n",
        "            unique_values.add(label)\n",
        "    mapping = {}\n",
        "    for value in unique_values:\n",
        "        if value == 'O':\n",
        "            mapping[value] = 0\n",
        "        elif value[0] == 'B':\n",
        "            mapping[value] = 1\n",
        "        elif value[0] == 'I':\n",
        "            mapping[value] = 2\n",
        "        else:\n",
        "            raise ValueError(\"Found inconsistent value in 'labels' (labels are supposed to be IOB2 tags).\")\n",
        "    labels = [[mapping[label] for label in label_list] for label_list in labels]\n",
        "    return labels"
      ],
      "execution_count": null,
      "outputs": []
    },
    {
      "cell_type": "markdown",
      "metadata": {
        "id": "nkPm7LIObr0y"
      },
      "source": [
        "### BERT tokenization"
      ]
    },
    {
      "cell_type": "code",
      "metadata": {
        "id": "ThpnmKhZUKgG"
      },
      "source": [
        "def bert_tokenization(tokenizer, text, labels):\n",
        "    tokens_dict = tokenizer(text, return_tensors ='pt', is_split_into_words=True, return_offsets_mapping=True, padding='max_length', truncation=True)\n",
        "    for sentence_counter, mapping in enumerate(tokens_dict['offset_mapping']):\n",
        "        for token_counter, indices in enumerate(mapping):\n",
        "            if int(indices[0]) == 0 and int(indices[1]) != 0:\n",
        "                label = labels[sentence_counter][token_counter]\n",
        "            elif int(indices[1]) == 0:\n",
        "                labels[sentence_counter].insert(token_counter, -100)\n",
        "            elif int(indices[0])!=0:\n",
        "                labels[sentence_counter].insert(token_counter, label)\n",
        "    return tokens_dict, labels"
      ],
      "execution_count": null,
      "outputs": []
    },
    {
      "cell_type": "markdown",
      "metadata": {
        "id": "VYDGpKDjUKgH"
      },
      "source": [
        "### Dev/train/test split"
      ]
    },
    {
      "cell_type": "code",
      "metadata": {
        "id": "uTALxkarUKgI"
      },
      "source": [
        "def split(text, labels, test_size, random_state, stratify=None):\n",
        "    if stratify != None:\n",
        "        stratify = [] \n",
        "        # the labels in 'labels' are referred to tokens. We need a sentence-related label\n",
        "        # to perform a stratified split, as it is text, and not single tokens,\n",
        "        # that we allocate to dev/train/test sets. This sentence-related label will be 1\n",
        "        # if the sentence contains at least 1 negative/speculative cue, 0 otherwise.\n",
        "        for label_list in labels:\n",
        "            if 1 in label_list:\n",
        "                stratify.append(1)\n",
        "            else:\n",
        "                stratify.append(0)\n",
        "    if isinstance(text, dict):\n",
        "        return train_test_split(text['input_ids'], text['token_type_ids'], text['attention_mask'], text['offset_mapping'], labels, test_size = test_size, random_state = random_state, stratify = stratify)\n",
        "    else:\n",
        "        return train_test_split(text, labels, test_size = test_size, random_state = random_state, stratify = stratify)"
      ],
      "execution_count": null,
      "outputs": []
    },
    {
      "cell_type": "markdown",
      "metadata": {
        "id": "2LgX9vnHUKgI"
      },
      "source": [
        "### Functions for training"
      ]
    },
    {
      "cell_type": "code",
      "metadata": {
        "id": "cx-Y8MiGt9Bc"
      },
      "source": [
        "def train_and_evaluate(model, num_epochs, loss_function, optim, gradient_accumulation_steps, goal_class, goal_phen, models_folder_path, logs_folder_path, patience, use_f1_as_stopping_metric, hyper_dict, data_loader_train, data_loader_val, device):\n",
        "    \n",
        "    def print_log(epoch_number, train_loss, val_loss, cr_train, cm_train, cr_val, cm_val, log_file_path):\n",
        "        cr_train = cr_train.split('\\n')\n",
        "        cr_train[0] = cr_train[0]+\" \"*2+f\"loss: {train_loss:.8f}\"\n",
        "        cr_train = \"\\n\".join(cr_train)\n",
        "        cr_val = cr_val.split('\\n')\n",
        "        cr_val[0] = cr_val[0]+\" \"*2+\"loss:\"+\" \"*18+f\"{val_loss:.8f}\"\n",
        "        cr_val = \"\\n\".join(cr_val)\n",
        "        with open(log_file_path,'a') as file:\n",
        "            print(f\"Epoch {epoch_number} (training)\", file=file)\n",
        "            print(cr_train, file=file)\n",
        "            print(cm_train, file=file)\n",
        "            print(f\"Epoch {epoch_number} (validation)\", file=file)\n",
        "            print(cr_val, file=file)\n",
        "            print(cm_val, file=file)\n",
        "        print(f\"Epoch {epoch_number} (training/validation): loss: {train_loss}/{val_loss}\")\n",
        "        \n",
        "    def predict_for_original_tokens(batch, predicted_labels, y_true, y_pred):\n",
        "        m = torch.nn.Softmax(dim=1)\n",
        "        probs = m(predicted_labels)\n",
        "        batch_labels = torch.reshape(batch['labels'],(-1,)).tolist()\n",
        "        new_probs = []\n",
        "        prob_sub_token = []\n",
        "        for cnt_indices, indices in enumerate(batch['offset_mapping'].flatten(end_dim=1)):\n",
        "            if indices[0].item() == 0 and indices[1].item() != 0:\n",
        "                if len(prob_sub_token) != 0:\n",
        "                    prob_zero = sum([coppia_prob[0] for coppia_prob in prob_sub_token])\n",
        "                    prob_uno = sum([coppia_prob[1] for coppia_prob in prob_sub_token])                    \n",
        "                    new_probs[-1][0] = (new_probs[-1][0] + prob_zero)/(len(prob_sub_token)+1)\n",
        "                    new_probs[-1][1] = (new_probs[-1][1] + prob_uno)/(len(prob_sub_token)+1)\n",
        "                    if cue_spec_detection:\n",
        "                        prob_due = sum([coppia_prob[2] for coppia_prob in prob_sub_token])\n",
        "                        new_probs[-1][2] = (new_probs[-1][2] + prob_due)/(len(prob_sub_token)+1)\n",
        "                    prob_sub_token = []\n",
        "                new_probs.append(probs[cnt_indices].tolist())\n",
        "                y_true.append(batch_labels[cnt_indices])\n",
        "            elif indices[0].item() != 0:\n",
        "                if cue_spec_detection:\n",
        "                    prob_sub_token.append([probs[cnt_indices][0].item(),probs[cnt_indices][1].item(),probs[cnt_indices][2].item()])\n",
        "                else:\n",
        "                    prob_sub_token.append([probs[cnt_indices][0].item(),probs[cnt_indices][1].item()])\n",
        "        preds = torch.argmax(torch.tensor(new_probs), dim=1).tolist()\n",
        "        y_pred.extend(preds)\n",
        "        return y_true, y_pred\n",
        "    \n",
        "    if goal_class not in ('cue','scope'):\n",
        "        raise ValueError(\"'goal_class' must be either 'cue' or 'scope'.\")\n",
        "    if goal_phen not in ('neg','spec'):\n",
        "        raise ValueError(\"'goal_phen' must be either 'neg' or 'spec'.\")\n",
        "    cue_spec_detection = True if goal_class == 'cue' and goal_phen =='spec' else False #replace with check over number of possible class values\n",
        "    log_file_path = os.path.join(logs_folder_path, f'log_{goal_class}_{goal_phen}.txt')\n",
        "    if os.path.exists(log_file_path):\n",
        "        with open(log_file_path, 'r') as file:\n",
        "            for line in file:\n",
        "                if \"***ID_NUMBER=\" in line:\n",
        "                    id_model = int(re.search(r'[0-9]+',line)[0])+1\n",
        "    else:\n",
        "        id_model = 0\n",
        "    with open(log_file_path, 'a') as file:     \n",
        "        print('------------------------------------------------------------------------------', file=file)\n",
        "        print(f\"***ID_NUMBER={id_model}***\",file=file)\n",
        "        for key in hyper_dict:\n",
        "            print(f'{key} : {hyper_dict[key]}', file=file)\n",
        "    best_model_file_path = os.path.join(models_folder_path, f'best_model_{goal_class}_{goal_phen}_{id_model}.pt')\n",
        "    best_val_loss = float('inf')\n",
        "    best_val_f1 = float('-inf')\n",
        "    patience_counter_val = patience\n",
        "    early_stopping = False            \n",
        "    for epoch in range(num_epochs):\n",
        "        y_true = []\n",
        "        y_pred = []\n",
        "        model.train()\n",
        "        train_loss = 0\n",
        "        for batch_counter, batch in enumerate(data_loader_train):\n",
        "            if (batch_counter != 0 and batch_counter % gradient_accumulation_steps == 0) or (batch_counter == (len(data_loader_train)-1)):\n",
        "                optim.step() \n",
        "                optim.zero_grad()\n",
        "            predicted_labels = model(batch)\n",
        "            loss = loss_function(predicted_labels.to(device), torch.reshape(batch['labels'],(-1,))).to(device)\n",
        "            loss.backward()\n",
        "            train_loss += loss.item() \n",
        "            y_true, y_pred = predict_for_original_tokens(batch, predicted_labels, y_true, y_pred)\n",
        "        train_loss /= (batch_counter+1)\n",
        "        cr_train = classification_report(y_true, y_pred, zero_division=0)\n",
        "        cm_train = confusion_matrix(y_true, y_pred)\n",
        "        model.eval()\n",
        "        with torch.no_grad():\n",
        "            y_true = []\n",
        "            y_pred = []\n",
        "            val_loss = 0\n",
        "            for batch in data_loader_val:\n",
        "                predicted_labels = model(batch)\n",
        "                val_loss += loss_function(predicted_labels.to(device), torch.reshape(batch['labels'],(-1,))).item()\n",
        "                y_true, y_pred = predict_for_original_tokens(batch, predicted_labels, y_true, y_pred)\n",
        "            val_loss /= len(data_loader_val)\n",
        "            cr_val = classification_report(y_true, y_pred, zero_division=0)\n",
        "            cm_val = confusion_matrix(y_true, y_pred)\n",
        "            print_log(epoch, train_loss, val_loss, cr_train, cm_train, cr_val, cm_val, log_file_path)\n",
        "            if use_f1_as_stopping_metric == True:\n",
        "                if cue_spec_detection:\n",
        "                    val_f1 = f1_score(y_true, y_pred, average='macro', zero_division=0)\n",
        "                else:\n",
        "                    val_f1 = f1_score(y_true, y_pred, zero_division=0)\n",
        "                if val_f1 >= best_val_f1: \n",
        "                    best_val_f1 = val_f1\n",
        "                    torch.save(model.state_dict(), best_model_file_path)\n",
        "                    patience_counter_val = patience\n",
        "                    best_model_string = f\"Best model was obtained at epoch {epoch}, with validation f1 {val_f1} and loss {val_loss}\"\n",
        "                elif patience_counter_val>0:\n",
        "                    patience_counter_val -= 1\n",
        "            else:\n",
        "                if cue_spec_detection:\n",
        "                    val_f1 = f1_score(y_true, y_pred, average='macro', zero_division=0)\n",
        "                else:\n",
        "                    val_f1 = f1_score(y_true, y_pred, zero_division=0)\n",
        "                if val_loss <= best_val_loss:\n",
        "                    best_val_loss = val_loss\n",
        "                    torch.save(model.state_dict(), best_model_file_path)\n",
        "                    patience_counter_val = patience\n",
        "                    best_model_string = f\"Best model was obtained at epoch {epoch}, with validation f1 {val_f1} and loss {val_loss}\"\n",
        "                elif patience_counter_val>0:\n",
        "                    patience_counter_val -= 1\n",
        "            if patience_counter_val == 0:\n",
        "                print(f\"Early stopping at epoch {epoch}. Model parameters saved in 'best_model_{goal_class}_{goal_phen}_{id_model}.pt'. {best_model_string}\")\n",
        "                early_stopping = True\n",
        "                with open(log_file_path, 'a') as file:\n",
        "                    print(f\"Early stopping at epoch {epoch}. {best_model_string}\", file=file)\n",
        "                break\n",
        "    if early_stopping == False:\n",
        "        print(f\"Training completed. Model parameters saved in 'best_model_{goal_class}_{goal_phen}_{id_model}.pt'. {best_model_string}\")\n",
        "        with open(log_file_path, 'a') as file:\n",
        "            print(f\"{best_model_string}\", file=file)"
      ],
      "execution_count": null,
      "outputs": []
    },
    {
      "cell_type": "code",
      "metadata": {
        "id": "hTGwrlnaKq0y"
      },
      "source": [
        "def grid_search(parameters, goal_class, goal_phen, models_folder_path, logs_folder_path, device):\n",
        "    make_reproducible() # just to be on the safe side, may delete later\n",
        "\n",
        "    configs = list(itertools.product(*parameters))\n",
        "    print(f\"There's {len(configs)} configurations in total. Gonna start running them now...\")\n",
        "    for num_config, config in enumerate(configs):\n",
        "        make_reproducible() # just to be on the safe side, may delete later\n",
        "        \n",
        "        sentences, labels = load_data(goal_class, goal_phen, data_folder_path)\n",
        "        if goal_class == 'cue':\n",
        "            labels = label_mapping(labels)\n",
        "\n",
        "        hidden_size_rnn = config[0]\n",
        "        num_layers_rnn = config[1]\n",
        "        dropout_prob = config[2]\n",
        "        learning_rate = config[3]\n",
        "        weight_decay = config[4]\n",
        "        batch_size = config[5]\n",
        "        gradient_accumulation_steps = config[6]\n",
        "        bert_name = config[7]\n",
        "        use_f1_as_stopping_metric = config[8]\n",
        "        tokenizer = AutoTokenizer.from_pretrained(bert_name)\n",
        "        bert = AutoModel.from_pretrained(bert_name)\n",
        "\n",
        "        output_dim = 3 if goal_class == 'cue' and goal_phen == 'spec' else 2 #output of the whole model: to be set by user, currently cue_spec is the only class to have 3 possible values (all others have 2)\n",
        "        loss_function = torch.nn.CrossEntropyLoss(ignore_index=-100).to(device) # -100 is the label assigned to Bert's special tokens ([CLS],[SEP]) and padding\n",
        "        num_epochs = 100\n",
        "        patience = 30\n",
        "\n",
        "        tokens_dict, labels = bert_tokenization(tokenizer, sentences, labels)\n",
        "        tokens_dict = dict(tokens_dict)\n",
        "        \n",
        "        stratify = True if goal_class == 'cue' else None\n",
        "        x_dev = {}\n",
        "        x_test = {}\n",
        "        x_dev['input_ids'], x_test['input_ids'], x_dev['token_type_ids'], x_test['token_type_ids'], x_dev['attention_mask'], x_test['attention_mask'], x_dev['offset_mapping'], x_test['offset_mapping'], labels_dev, labels_test = split(tokens_dict, labels, test_size=0.2, random_state=1, stratify = stratify)\n",
        "        x_train = {}\n",
        "        x_val = {}\n",
        "        x_train['input_ids'], x_val['input_ids'], x_train['token_type_ids'], x_val['token_type_ids'], x_train['attention_mask'], x_val['attention_mask'], x_train['offset_mapping'], x_val['offset_mapping'], labels_train, labels_val = split(x_dev, labels_dev, test_size=0.2, random_state=1, stratify = stratify)\n",
        "\n",
        "        data_loader_train = torch.utils.data.DataLoader(Dataset(x_train, labels_train),\n",
        "                                                        batch_size = batch_size, shuffle = True)\n",
        "        data_loader_val = torch.utils.data.DataLoader(Dataset(x_val, labels_val),\n",
        "                                                    batch_size = batch_size, shuffle = False)\n",
        "\n",
        "\n",
        "        model = Cue_scope_predictor(bert,hidden_size_rnn, num_layers_rnn, output_dim, dropout_prob)\n",
        "        model.to(device)\n",
        "        optim = torch.optim.Adam(model.parameters(), lr=learning_rate, weight_decay=weight_decay)\n",
        "\n",
        "        hyper_dict = {'INITIAL_WEIGHTS' : \"Pytorch default\",\n",
        "                    'HIDDEN_SIZE_RNN': hidden_size_rnn,\n",
        "                    'NUM_LAYERS_RNN': num_layers_rnn,\n",
        "                    'DROPOUT_PROB': dropout_prob,\n",
        "                    'LEARNING_RATE': learning_rate,\n",
        "                    'WEIGHT_DECAY': weight_decay,\n",
        "                    'LOSS_FUNCTION': str(loss_function),\n",
        "                    'BATCH_SIZE': batch_size*gradient_accumulation_steps,\n",
        "                    'NUM_EPOCHS': num_epochs,\n",
        "                    'PATIENCE': patience,\n",
        "                    'OPTIMISER': str(optim).replace('\\n',''),\n",
        "                    'BERTS_NAME' : bert_name}\n",
        "        \n",
        "        train_and_evaluate(model, num_epochs, loss_function, optim, gradient_accumulation_steps, goal_class, goal_phen, models_folder_path, logs_folder_path, patience, use_f1_as_stopping_metric, hyper_dict, data_loader_train, data_loader_val, device)\n",
        "        print('-'*100)\n",
        "        print()\n",
        "        print(f\"Just finished configuration number {num_config}. {len(configs)-1-num_config} still to go.\")\n",
        "        print()\n",
        "        print('-'*100)"
      ],
      "execution_count": null,
      "outputs": []
    },
    {
      "cell_type": "markdown",
      "metadata": {
        "id": "xjlHJrEhUKgR"
      },
      "source": [
        "# Classes"
      ]
    },
    {
      "cell_type": "markdown",
      "metadata": {
        "id": "l5BR7oYDgcmk"
      },
      "source": [
        "### Model"
      ]
    },
    {
      "cell_type": "code",
      "metadata": {
        "id": "aop1S9rscBvd"
      },
      "source": [
        "class Cue_scope_predictor(torch.nn.Module):\n",
        "    def __init__(self, bert, hidden_size_rnn, num_layers_rnn, output_dim, dropout_prob):\n",
        "        super().__init__()\n",
        "        self.embedder = bert\n",
        "        self.num_layers_rnn = num_layers_rnn\n",
        "        embedding_dim = bert.config.to_dict()['hidden_size']\n",
        "        if self.num_layers_rnn != 0:\n",
        "            self.rnn = torch.nn.LSTM(input_size = embedding_dim, hidden_size = hidden_size_rnn, num_layers=self.num_layers_rnn, batch_first=True, bidirectional=True)\n",
        "            self.final = torch.nn.Linear(2*hidden_size_rnn, output_dim)\n",
        "        else:\n",
        "            self.final = torch.nn.Linear(embedding_dim, output_dim)\n",
        "        self.dropout_prob = dropout_prob\n",
        "        if self.dropout_prob!= 0:\n",
        "            self.dropout = torch.nn.Dropout(dropout_prob)\n",
        "\n",
        "    def forward(self, tokens):\n",
        "        for cnt in range(len(tokens['input_ids'])):\n",
        "            embedding = self.embedder.forward(tokens['input_ids'][cnt].unsqueeze(0), tokens['attention_mask'][cnt].unsqueeze(0), tokens['token_type_ids'][cnt].unsqueeze(0)).last_hidden_state\n",
        "            if self.num_layers_rnn != 0:\n",
        "                lhs_rnn = self.rnn(embedding)[0] \n",
        "                if self.dropout_prob != 0:\n",
        "                    lhs_rnn = self.dropout(lhs_rnn)\n",
        "                pred = self.final(lhs_rnn)\n",
        "            else:\n",
        "                if self.dropout_prob != 0:\n",
        "                    embedding = self.dropout(embedding)\n",
        "                pred = self.final(embedding)\n",
        "            if cnt == 0:\n",
        "                preds = pred\n",
        "            else:\n",
        "                preds = torch.cat((preds, pred), 1)\n",
        "        # bisogna decidere cosa fare con gli embedding di token che vengono scomposti in subword: prendere solo quello della prima delle subword, combinarli \n",
        "        # facendo la media, sommarli...?\n",
        "        return preds.squeeze(0)"
      ],
      "execution_count": null,
      "outputs": []
    },
    {
      "cell_type": "markdown",
      "metadata": {
        "id": "_WJ6KwZxUKgZ"
      },
      "source": [
        "### Pytorch Dataset (for batching)"
      ]
    },
    {
      "cell_type": "code",
      "metadata": {
        "id": "nXs17mmWcJ89"
      },
      "source": [
        "# based on https://huggingface.co/transformers/custom_datasets.html#tok-ner\n",
        "class Dataset(torch.utils.data.Dataset):\n",
        "    def __init__(self, tokens, cues):\n",
        "        self.tokens = tokens\n",
        "        self.cues = cues\n",
        "        \n",
        "    def __getitem__(self, id_):\n",
        "        item = {key: val[id_].to(device) for key,val in self.tokens.items() if key != 'offset_mapping'}\n",
        "        item['labels'] = torch.tensor(self.cues[id_]).to(device)\n",
        "        item['offset_mapping'] = self.tokens['offset_mapping'][id_]\n",
        "        return item\n",
        "    \n",
        "    def __len__(self):\n",
        "        return len(self.cues)"
      ],
      "execution_count": null,
      "outputs": []
    },
    {
      "cell_type": "markdown",
      "metadata": {
        "id": "iwlENyzJUKga"
      },
      "source": [
        "# Path assignment"
      ]
    },
    {
      "cell_type": "code",
      "metadata": {
        "id": "u8OBKVdLUKgb",
        "colab": {
          "base_uri": "https://localhost:8080/"
        },
        "outputId": "4a50a1ce-70f4-4768-f3af-ed4ac57c5b8b"
      },
      "source": [
        "input_ok = False\n",
        "while input_ok == False:\n",
        "    dir_path = os.path.realpath(input(\"Insert your path-string (final slash not important)\"))\n",
        "    input_ok = os.path.exists(dir_path)\n",
        "    if input_ok == False:\n",
        "        print(f'dir_path {dir_path} does not exist on this machine. Insert correct path.')\n",
        "\n",
        "data_folder_path = os.path.join(dir_path, 'Data')\n",
        "assert os.path.exists(data_folder_path), f'All data should be put in a namesake folder (\"Data\") located at {data_folder_path}'\n",
        "models_folder_path = os.path.join(dir_path, 'Models')\n",
        "if os.path.exists(models_folder_path) == False:\n",
        "    print(\"Folder 'Models' not found in expected path. Proceeding to create it. All trained models will be saved here.\")\n",
        "    os.makedirs(models_folder_path)\n",
        "logs_folder_path = os.path.join(dir_path, 'Logs')\n",
        "if os.path.exists(logs_folder_path) == False:\n",
        "    print(\"Folder 'Logs' not found in expected path. Proceeding to create it. All training logs will be saved here.\")\n",
        "    os.makedirs(logs_folder_path)"
      ],
      "execution_count": null,
      "outputs": [
        {
          "name": "stdout",
          "output_type": "stream",
          "text": [
            "Insert your path-string (final slash not important)/content/drive/My Drive/Tirocinio NLP e tesi\n"
          ]
        }
      ]
    },
    {
      "cell_type": "markdown",
      "metadata": {
        "id": "MyAUPNyR0ci0"
      },
      "source": [
        "# Testing"
      ]
    },
    {
      "cell_type": "code",
      "metadata": {
        "colab": {
          "base_uri": "https://localhost:8080/",
          "height": 216,
          "referenced_widgets": [
            "5689c879ef39435188b2f5afbcb31679",
            "2154d43643d94f1799a40109bf0e3a47",
            "7797f8b33266441e904027fa51f70c89",
            "3e3d5c01916340e7a5a2f5363ee4e53b",
            "62c2c0e0308042d6a7e151f85465083c",
            "2e49eb1f84ca4b9b97e2d5ea0cb0595c",
            "67df0c30c9f44f068b50070a040087fb",
            "31c905fea4604115997bb0d120319098",
            "6613e58ed1af4f738677d5774a95f481",
            "3cb4b4de75264c4ab4f37178f7ff9b92",
            "5ed8fbfcdc0446fc94e9fc6d7df2b828",
            "845df94a038c47818e8e4b1e340f958f",
            "1610aeb49966419daa723c13faa133fb",
            "fe06a25b97af49a99e8e538d851ff687",
            "b7ebfd0cce0b4bf79dd2be9c4a0a9283",
            "344f51ebde404c6597d845f8848f4eac",
            "bd3f79e3cb164ae88614249624dda5bf",
            "4cb0a0f3188b4e5d8c07eb2e4e64beef",
            "462473a4811a49f3aca29a7f12eadd62",
            "b0b68762389444fa8ef9afdd8c9fce91",
            "839db09a2ef34dd983c404573415aeac",
            "4a8ed22edcef4beb9b5c2ebc3ac86de6",
            "a656c7cfeafe4c7781e44fb75508f8d6",
            "096578a177b64277a08ac09481265096",
            "08709732ccc0430985893c0c95c8fdc5",
            "b26c985e7c074c758aa904034625c657",
            "1f32e1815ce24fb49854f2f3b0f9e94c",
            "4f58318fbe83415692638eb24f19ddca",
            "d69e4c112df645328942e2e323878e56",
            "1839768ec3c64b4ca4d31581789a10e4",
            "c8b7c10a203544ab9f2a32029a718328",
            "5df257f9646446549c8494ffa839346c",
            "ef9639da694b45d48ef574ec3389036a",
            "f3523acd4dba4b9d9c3da24756240b5e",
            "2d0dba73a52c40d4b0ea28c327065f9e",
            "c2c9c5667ba44d709757a455340ff2d6",
            "4110561016a24b3f8c6e68fbf7b9cd74",
            "af9dda9df58e408c866fadbbb7a21fc6",
            "00215da3f08542eb8e6ef50b055727a4",
            "6e9b9ab7ce9f4688917d91f4cefd5fdf",
            "b6010a6a15f04527a523cbd85fb4ab63",
            "d58a591ad1fd4b23a72cd5fdd76e3767",
            "2e8e7365c02e4295b6ec633d11860534",
            "14d9239f9a31447780a11c39f15b8d8a"
          ]
        },
        "id": "tsrHOWQCB9zz",
        "outputId": "51cae852-2095-4f95-9e4e-094b0b05a180"
      },
      "source": [
        "bert_name = 'dbmdz/bert-base-italian-xxl-cased' # insert BERT model used\n",
        "tokenizer = AutoTokenizer.from_pretrained(bert_name)\n",
        "bert = AutoModel.from_pretrained(bert_name)"
      ],
      "execution_count": null,
      "outputs": [
        {
          "output_type": "display_data",
          "data": {
            "application/vnd.jupyter.widget-view+json": {
              "model_id": "5689c879ef39435188b2f5afbcb31679",
              "version_minor": 0,
              "version_major": 2
            },
            "text/plain": [
              "Downloading:   0%|          | 0.00/59.0 [00:00<?, ?B/s]"
            ]
          },
          "metadata": {}
        },
        {
          "output_type": "display_data",
          "data": {
            "application/vnd.jupyter.widget-view+json": {
              "model_id": "845df94a038c47818e8e4b1e340f958f",
              "version_minor": 0,
              "version_major": 2
            },
            "text/plain": [
              "Downloading:   0%|          | 0.00/433 [00:00<?, ?B/s]"
            ]
          },
          "metadata": {}
        },
        {
          "output_type": "display_data",
          "data": {
            "application/vnd.jupyter.widget-view+json": {
              "model_id": "a656c7cfeafe4c7781e44fb75508f8d6",
              "version_minor": 0,
              "version_major": 2
            },
            "text/plain": [
              "Downloading:   0%|          | 0.00/230k [00:00<?, ?B/s]"
            ]
          },
          "metadata": {}
        },
        {
          "output_type": "display_data",
          "data": {
            "application/vnd.jupyter.widget-view+json": {
              "model_id": "f3523acd4dba4b9d9c3da24756240b5e",
              "version_minor": 0,
              "version_major": 2
            },
            "text/plain": [
              "Downloading:   0%|          | 0.00/425M [00:00<?, ?B/s]"
            ]
          },
          "metadata": {}
        },
        {
          "output_type": "stream",
          "name": "stderr",
          "text": [
            "Some weights of the model checkpoint at dbmdz/bert-base-italian-xxl-cased were not used when initializing BertModel: ['cls.predictions.transform.dense.weight', 'cls.predictions.transform.LayerNorm.bias', 'cls.predictions.transform.dense.bias', 'cls.predictions.bias', 'cls.predictions.transform.LayerNorm.weight', 'cls.seq_relationship.weight', 'cls.predictions.decoder.bias', 'cls.seq_relationship.bias', 'cls.predictions.decoder.weight']\n",
            "- This IS expected if you are initializing BertModel from the checkpoint of a model trained on another task or with another architecture (e.g. initializing a BertForSequenceClassification model from a BertForPreTraining model).\n",
            "- This IS NOT expected if you are initializing BertModel from the checkpoint of a model that you expect to be exactly identical (initializing a BertForSequenceClassification model from a BertForSequenceClassification model).\n"
          ]
        }
      ]
    },
    {
      "cell_type": "code",
      "metadata": {
        "id": "9mGltw8Q5b3W"
      },
      "source": [
        "model = Cue_scope_predictor(bert, 200, 1, 2, 0)\n",
        "model.load_state_dict(torch.load(os.path.join(models_folder_path,'best_model_cue_neg_4.pt'))) # insert model name\n",
        "model.to(device)\n",
        "goal_class = 'cue'# insert goal_class\n",
        "goal_phen = 'neg'# insert goal_phen"
      ],
      "execution_count": null,
      "outputs": []
    },
    {
      "cell_type": "code",
      "metadata": {
        "id": "i8rLX4a49M9Y"
      },
      "source": [
        "sentences, labels = load_data(goal_class, goal_phen, data_folder_path)\n",
        "if goal_class == 'cue':\n",
        "    labels = label_mapping(labels)\n",
        "tokens_dict, labels = bert_tokenization(tokenizer, sentences, labels)\n",
        "tokens_dict = dict(tokens_dict)\n",
        "stratify = True if goal_class == 'cue' else None\n",
        "x_dev = {} \n",
        "x_test = {}\n",
        "x_dev['input_ids'], x_test['input_ids'], x_dev['token_type_ids'], x_test['token_type_ids'], x_dev['attention_mask'], x_test['attention_mask'], x_dev['offset_mapping'], x_test['offset_mapping'], labels_dev, labels_test = split(tokens_dict, labels, test_size=0.2, random_state=1, stratify = stratify)"
      ],
      "execution_count": null,
      "outputs": []
    },
    {
      "cell_type": "code",
      "metadata": {
        "id": "RnuNL6Fb7HJl"
      },
      "source": [
        "data_loader_test = torch.utils.data.DataLoader(Dataset(x_test, labels_test),\n",
        "                                                    batch_size = 10, shuffle = False)"
      ],
      "execution_count": null,
      "outputs": []
    },
    {
      "cell_type": "code",
      "metadata": {
        "id": "pqJt4uh25b-t"
      },
      "source": [
        "def evaluate(model, data_loader_test):\n",
        "    \n",
        "    def predict_for_original_tokens(batch, predicted_labels, y_true, y_pred):\n",
        "        m = torch.nn.Softmax(dim=1)\n",
        "        probs = m(predicted_labels)\n",
        "        batch_labels = torch.reshape(batch['labels'],(-1,)).tolist()\n",
        "        new_probs = []\n",
        "        prob_sub_token = []\n",
        "        for cnt_indices, indices in enumerate(batch['offset_mapping'].flatten(end_dim=1)):\n",
        "            if indices[0].item() == 0 and indices[1].item() != 0:\n",
        "                if len(prob_sub_token) != 0:\n",
        "                    prob_zero = sum([coppia_prob[0] for coppia_prob in prob_sub_token])\n",
        "                    prob_uno = sum([coppia_prob[1] for coppia_prob in prob_sub_token])\n",
        "                    new_probs[-1][0] = (new_probs[-1][0] + prob_zero)/(len(prob_sub_token)+1)\n",
        "                    new_probs[-1][1] = (new_probs[-1][1] + prob_uno)/(len(prob_sub_token)+1)\n",
        "                    prob_sub_token = [] \n",
        "                new_probs.append(probs[cnt_indices].tolist())\n",
        "                y_true.append(batch_labels[cnt_indices])\n",
        "            elif indices[0].item() != 0:\n",
        "                prob_sub_token.append([probs[cnt_indices][0].item(),probs[cnt_indices][1].item()])\n",
        "        preds = torch.argmax(torch.tensor(new_probs), dim=1).tolist()\n",
        "        y_pred.extend(preds)\n",
        "        return y_true, y_pred\n",
        "\n",
        "    model.eval()\n",
        "    y_true = []\n",
        "    y_pred = []\n",
        "    with torch.no_grad():\n",
        "        for batch in data_loader_test:\n",
        "            predicted_labels = model(batch)\n",
        "            y_true, y_pred = predict_for_original_tokens(batch, predicted_labels, y_true, y_pred)\n",
        "    print(classification_report(y_true, y_pred))"
      ],
      "execution_count": null,
      "outputs": []
    },
    {
      "cell_type": "code",
      "metadata": {
        "colab": {
          "base_uri": "https://localhost:8080/"
        },
        "id": "fWbgOv2jEbHm",
        "outputId": "436ec176-bff8-43c5-fa73-649f5ea81397"
      },
      "source": [
        "evaluate(model, data_loader_test)"
      ],
      "execution_count": null,
      "outputs": [
        {
          "output_type": "stream",
          "name": "stdout",
          "text": [
            "              precision    recall  f1-score   support\n",
            "\n",
            "           0       1.00      1.00      1.00     10082\n",
            "           1       0.95      0.99      0.97        92\n",
            "\n",
            "    accuracy                           1.00     10174\n",
            "   macro avg       0.97      0.99      0.98     10174\n",
            "weighted avg       1.00      1.00      1.00     10174\n",
            "\n"
          ]
        }
      ]
    },
    {
      "cell_type": "markdown",
      "metadata": {
        "id": "BdPOhfQl1ARR"
      },
      "source": [
        "------------------------"
      ]
    },
    {
      "cell_type": "code",
      "metadata": {
        "id": "QVTYzF2L_9SD"
      },
      "source": [
        "# less memory efficient ('cos all lines of all files stored in memory at once), more readable\n",
        "class TSVDataset:\n",
        "\n",
        "    def __init__(self, data_folder_path):\n",
        "        self.data_folder_path = data_folder_path\n",
        "        self.filepaths = sorted([file.path for file in os.scandir(self.data_folder_path) if file.name.endswith('tsv')])\n",
        "        print(f'Using dataset from {self.data_folder_path}')\n",
        "        print(f'Files loaded: {[os.path.basename(file) for file in self.filepaths]}')\n",
        "\n",
        "        df = pd.DataFrame()\n",
        "        for filepath in sorted(self.filepaths):\n",
        "            df = df.append(pd.read_csv(filepath, sep='\\t', quoting = 3))\n",
        "        df = df.reset_index(drop=True)\n",
        "        self.original_df = copy.deepcopy(df)\n",
        "\n",
        "        comment_indices = df[df.ID.astype(str).str.startswith('#')].index\n",
        "        df = df.drop(comment_indices)\n",
        "        multitoken_indices = df[df.ID.astype(str).str.contains('-')].index\n",
        "        df = df.drop(multitoken_indices)\n",
        "        descr_indices = df[df['CUE_NEG'] == 'DESCR.'].index\n",
        "        df = df.drop(descr_indices)\n",
        "        df = df.reset_index(drop=True)\n",
        "        self.tokens_df = df\n",
        "\n",
        "    def get_original_df(self):\n",
        "        return self.original_df\n",
        "\n",
        "    def get_tokens_df(self):\n",
        "        return self.tokens_df\n",
        "\n",
        "    def preprocess_data(self, goal_class, goal_phen):\n",
        "        df = copy.deepcopy(self.tokens_df)\n",
        "        sentences = []\n",
        "        labels = []\n",
        "        goal_phen = goal_phen.upper()\n",
        "        cue_column = f'CUE_{goal_phen}'\n",
        "\n",
        "        if goal_class == 'cue':\n",
        "            last_index = 0\n",
        "            for index in df[df.ID == '1'].index:\n",
        "                if index == 0: continue\n",
        "                sentences.append(df['FORM'][last_index:index].tolist())\n",
        "                labels.append(df[cue_column][last_index:index].tolist())\n",
        "                last_index = index\n",
        "\n",
        "        else:\n",
        "            scope_column = f'SCOPE_{goal_phen}'\n",
        "            begin_cue = 'BS' if goal_phen == 'SPEC' else 'BN'\n",
        "            inside_cue = 'IS' if goal_phen == 'SPEC' else 'IN'\n",
        "            begin_augment = 'token[B-SPEC]' if goal_phen =='SPEC' else 'token[B-NEG]'\n",
        "            inside_augment = 'token[I-SPEC]' if goal_phen =='SPEC' else 'token[I-NEG]'\n",
        "\n",
        "            begin_sentence = 0\n",
        "            for end_sentence in df[df.ID == '1'].index:\n",
        "                if end_sentence == 0: continue\n",
        "                cues = df[cue_column][begin_sentence:end_sentence][df[cue_column]==begin_cue]\n",
        "                cue_indices = cues.index\n",
        "                for counter_index, cue_index in enumerate(cue_indices):\n",
        "                    sentence_tokens = copy.deepcopy(df['FORM'][begin_sentence:end_sentence])\n",
        "                    sentence_tokens.loc[cue_index] = begin_augment + sentence_tokens.loc[cue_index]\n",
        "                    next_cue_index = end_sentence\n",
        "                    if counter_index < len(cue_indices)-1:\n",
        "                        next_cue_index = cue_indices[counter_index+1]\n",
        "                    candidate_inside_cues = df[cue_column][cue_index:next_cue_index]\n",
        "                    for inside_cue_index, cue in zip(candidate_inside_cues.index,candidate_inside_cues):\n",
        "                        if cue == inside_cue:\n",
        "                            sentence_tokens.loc[inside_cue_index] = inside_augment + sentence_tokens.loc[inside_cue_index]\n",
        "                    sentence_labels = []\n",
        "                    cue_id = df['ID'].loc[cue_index] \n",
        "                    sentence_scopes = copy.deepcopy(df[scope_column][begin_sentence:end_sentence])\n",
        "                    for token_scopes in sentence_scopes:\n",
        "                        token_scopes_list = token_scopes.split(',')\n",
        "                        clean_token_scopes = [scope.strip().strip('\\n').strip() for scope in token_scopes_list]\n",
        "                        if cue_id in clean_token_scopes:\n",
        "                            sentence_labels.append(1)\n",
        "                        else:\n",
        "                            sentence_labels.append(0)\n",
        "                    sentences.append(sentence_tokens.tolist())\n",
        "                    labels.append(sentence_labels)\n",
        "                begin_sentence = end_sentence\n",
        "        return sentences, labels"
      ],
      "execution_count": null,
      "outputs": []
    },
    {
      "cell_type": "code",
      "metadata": {
        "id": "bH_bX_pSKfvs"
      },
      "source": [
        "ds = TSVDataset(f'{dir_path}/Data')"
      ],
      "execution_count": null,
      "outputs": []
    }
  ]
}