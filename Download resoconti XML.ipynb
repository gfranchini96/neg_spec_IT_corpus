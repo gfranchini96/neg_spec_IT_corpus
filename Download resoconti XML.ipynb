{
 "cells": [
  {
   "cell_type": "markdown",
   "metadata": {},
   "source": [
    "N.B. Ho osservato che nei file XML salvati nel mio computer a volte scomparivano degli spazi (es. 'dellaRenault' in luogo di 'della Renault' nel resoconto numero 9 della legislatura numero 18 o 'diroutine' in luogo di 'di routine' nel resoconto 18 della stessa legislatura), mi pare sempre prima di una parola che era contenuta in un tag \\\\<emphasis\\>\\. Ho debuggato passo passo e la scomparsa dello spazio non si verificava prima del metodo .write(), il che significa che è dovuta al metodo stesso o ad altro che non so come risolvere. Come soluzione di comodo, ho aggiunto uno spazio in testa al testo di ogni tag \\\\<emphasis\\>\\, il che sembra funzionare."
   ]
  },
  {
   "cell_type": "code",
   "execution_count": 1,
   "metadata": {},
   "outputs": [],
   "source": [
    "from urllib.request import urlopen\n",
    "from lxml import etree\n",
    "import re\n",
    "import copy"
   ]
  },
  {
   "cell_type": "code",
   "execution_count": 6,
   "metadata": {
    "scrolled": true
   },
   "outputs": [],
   "source": [
    "regex_sigla = re.compile('\\([^a-z]+?\\) *\\.?')\n",
    "regex_virgola_punto = re.compile('\\s*[,.]?\\s*')\n",
    "regex_punto = re.compile('\\s*\\.')\n",
    "\n",
    "def pulitura_intervento(Element_intervento, attributi):\n",
    "    testo_senza_tag = re.sub(\" +\",\" \",re.sub('[\\t\\n]',\"\",re.sub('(?<!\\t| )\\n(?! )',\" \",etree.tostring(Element_intervento, encoding='unicode', method='text'))))\n",
    "    indentazione = re.search('[\\t\\n]+', Element_intervento.tail)[0]\n",
    "    Element_intervento.clear()\n",
    "    # per le quattro righe qua sotto si potrebbero usare invece le re\n",
    "    Element_intervento.text = testo_senza_tag.strip()\n",
    "    if Element_intervento.text[0] == '.' or Element_intervento.text[0] == ',':\n",
    "        Element_intervento.text = Element_intervento.text[1:]\n",
    "    Element_intervento.text = Element_intervento.text.strip()\n",
    "    Element_intervento.tail = indentazione\n",
    "    for key,value in attributi.items():\n",
    "        Element_intervento.attrib[key] = value\n",
    "    return\n",
    "\n",
    "def gestione_intervento(Element_intervento, Element_padre):\n",
    "    for Element in Element_intervento.iter('nominativo'):\n",
    "        nodo_nominativo = Element\n",
    "        break\n",
    "    for Element_emphasis in Element_intervento.iter('emphasis'):\n",
    "        Element_emphasis.text =\" \"+ Element_emphasis.text\n",
    "    attributi = copy.deepcopy(Element_intervento.attrib)\n",
    "    attributi['idNominativo'] = nodo_nominativo.attrib['id']\n",
    "    attributi['cognomeNome'] = nodo_nominativo.attrib['cognomeNome']\n",
    "    #intervento parlamentare\n",
    "    stringa_controllo = nodo_nominativo.tail.strip()\n",
    "    for token in stringa_controllo.split()[0:3]:\n",
    "        if regex_sigla.match(token) is not None:\n",
    "            sigla = regex_sigla.match(token)[0].strip(\".\")\n",
    "            attributi['tipo'] = 'parlamentare'\n",
    "            attributi['partito'] = sigla\n",
    "            nodo_nominativo.tail = regex_sigla.sub(\"\", nodo_nominativo.tail).strip()\n",
    "            nodo_nominativo.text = None\n",
    "            pulitura_intervento(Element_intervento, attributi)\n",
    "            return\n",
    "    # intervento parlamentare (troncato)\n",
    "    if re.match(r' *?…', re.sub(r'[\\t\\n]',\"\", nodo_nominativo.tail)) is not None:\n",
    "        lista_interventi_precedenti = list(list(Element_padre.iterancestors('seduta'))[0].iter('intervento'))\n",
    "        lista_interventi_precedenti = lista_interventi_precedenti[lista_interventi_precedenti.index(Element_intervento)-4:lista_interventi_precedenti.index(Element_intervento)]\n",
    "        lista_interventi_precedenti.reverse()\n",
    "        for intervento_precedente in lista_interventi_precedenti:\n",
    "            if intervento_precedente.attrib['tipo'] == 'parlamentare' and intervento_precedente.attrib['idNominativo'] == nodo_nominativo.attrib['id']:\n",
    "                attributi['tipo'] = 'parlamentare'\n",
    "                attributi['partito'] = intervento_precedente.attrib['partito'].strip('?') + '?'\n",
    "                nodo_nominativo.text = None\n",
    "                pulitura_intervento(Element_intervento, attributi)\n",
    "                return\n",
    "    attributi['tipo'] = 'altro'\n",
    "    if sorted(nodo_nominativo.attrib['cognomeNome'].upper().split()) != sorted(nodo_nominativo.text.split()):\n",
    "        attributi['nominativo'] = nodo_nominativo.text\n",
    "    nodo_nominativo.tail = regex_punto.sub(\"\",nodo_nominativo.tail, count=1)\n",
    "    nodo_nominativo.text = None\n",
    "    pulitura_intervento(Element_intervento, attributi)\n",
    "    return"
   ]
  },
  {
   "cell_type": "code",
   "execution_count": 7,
   "metadata": {
    "scrolled": true
   },
   "outputs": [],
   "source": [
    "num_legislatura = str(18)\n",
    "for num_seduta in range(1, 30):\n",
    "    indirizzo_web = \"http://documenti.camera.it/apps/resoconto/getXmlStenografico.aspx?idNumero=00{}&idLegislatura={}\".format(num_seduta, num_legislatura)\n",
    "    xml = urlopen(indirizzo_web).read()\n",
    "    seduta = etree.fromstring(xml)\n",
    "    # rimuove tag per la data estesa (inutile perché la data è già negli attributi di <seduta>)\n",
    "    seduta[0].remove(seduta[0].find('dataEstesa'))\n",
    "    tag_da_tenere = ['intervento', 'dibattito']\n",
    "    for Element in seduta[1]:\n",
    "        if Element.tag not in tag_da_tenere:\n",
    "            seduta[1].remove(Element)\n",
    "    tag_da_tenere = ['titolo','fase','intervento']\n",
    "    file_da_salvare = False\n",
    "    for Element in seduta[1]:\n",
    "        if Element.tag == 'dibattito':\n",
    "            da_salvare = False\n",
    "            for Element2 in Element:\n",
    "                if Element2.tag == 'intervento':\n",
    "                    da_salvare = True\n",
    "                    file_da_salvare = True\n",
    "                    gestione_intervento(Element2, Element)    \n",
    "                elif Element2.tag == 'fase':\n",
    "                    fase_da_salvare = False\n",
    "                    for Element3 in Element2:\n",
    "                        if Element3.tag == 'intervento':\n",
    "                            fase_da_salvare = True\n",
    "                            da_salvare = True\n",
    "                            file_da_salvare = True\n",
    "                            gestione_intervento(Element3, Element2)\n",
    "                        elif Element3.tag not in tag_da_tenere:\n",
    "                            Element2.remove(Element3)\n",
    "                    # se la fase contiene solo elementi che sono stati eliminati, viene eliminata anch'essa\n",
    "                    if fase_da_salvare is False:\n",
    "                        Element.remove(Element2)\n",
    "                elif Element2.tag not in tag_da_tenere:\n",
    "                    Element.remove(Element2)\n",
    "            # se il dibattito contiene solo elementi che sono stati eliminati, viene eliminato anch'esso\n",
    "            if da_salvare is False:\n",
    "                seduta[1].remove(Element)\n",
    "        else: gestione_intervento(Element, seduta[1])\n",
    "    if file_da_salvare is True:\n",
    "        seduta_albero = etree.ElementTree(seduta)\n",
    "        seduta_albero.write('Resoconti/legislatura_{}/seduta_{}.xml'.format(num_legislatura,num_seduta), encoding ='utf-8')\n",
    "    else:\n",
    "        print(\"Seduta {} non salvata perché priva di interventi.\".format(num_seduta))"
   ]
  }
 ],
 "metadata": {
  "kernelspec": {
   "display_name": "Python 3",
   "language": "python",
   "name": "python3"
  },
  "language_info": {
   "codemirror_mode": {
    "name": "ipython",
    "version": 3
   },
   "file_extension": ".py",
   "mimetype": "text/x-python",
   "name": "python",
   "nbconvert_exporter": "python",
   "pygments_lexer": "ipython3",
   "version": "3.7.6"
  }
 },
 "nbformat": 4,
 "nbformat_minor": 4
}
