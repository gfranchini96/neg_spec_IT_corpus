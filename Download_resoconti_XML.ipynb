{
  "cells": [
    {
      "cell_type": "markdown",
      "metadata": {
        "id": "gRrBhHOwDX4D"
      },
      "source": [
        "N.B. Ho osservato che nei file XML salvati nel mio computer a volte scomparivano degli spazi (es. 'dellaRenault' in luogo di 'della Renault' nel resoconto numero 9 della legislatura numero 18 o 'diroutine' in luogo di 'di routine' nel resoconto 18 della stessa legislatura), mi pare sempre prima di una parola che era contenuta in un tag \\\\<emphasis\\>\\. Ho debuggato passo passo e la scomparsa dello spazio non si verificava prima del metodo .write(), il che significa che è dovuta al metodo stesso o ad altro che non so come risolvere. Come soluzione di comodo, ho aggiunto uno spazio in testa al testo di ogni tag \\\\<emphasis\\>\\, il che sembra funzionare."
      ]
    },
    {
      "cell_type": "code",
      "execution_count": null,
      "metadata": {
        "id": "2Gi42NHsDX4O"
      },
      "outputs": [],
      "source": [
        "from urllib.request import urlopen\n",
        "from lxml import etree\n",
        "import re\n",
        "import copy"
      ]
    },
    {
      "cell_type": "code",
      "execution_count": null,
      "metadata": {
        "scrolled": true,
        "id": "2mVxlYSmDX4T"
      },
      "outputs": [],
      "source": [
        "regex_sigla = re.compile('\\([^a-z]+?\\) *\\.?')\n",
        "regex_virgola_punto = re.compile('\\s*[,.]?\\s*')\n",
        "regex_punto = re.compile('\\s*\\.')\n",
        "def pulitura_intervento(Element_intervento, attributi):\n",
        "    testo_senza_tag = re.sub(\" +\",\" \",re.sub('[\\t\\n]',\"\",re.sub('(?<!\\t| )\\n(?! )',\" \",etree.tostring(Element_intervento, encoding='unicode', method='text'))))\n",
        "    indentazione = re.search('[\\t\\n]+', Element_intervento.tail)[0]\n",
        "    Element_intervento.clear()\n",
        "    # per le quattro righe qua sotto si potrebbero usare invece le re\n",
        "    Element_intervento.text = testo_senza_tag.strip()\n",
        "    if Element_intervento.text[0] == '.' or Element_intervento.text[0] == ',':\n",
        "        Element_intervento.text = Element_intervento.text[1:]\n",
        "    Element_intervento.text = Element_intervento.text.strip()\n",
        "    Element_intervento.tail = indentazione\n",
        "    for key,value in attributi.items():\n",
        "        Element_intervento.attrib[key] = value\n",
        "    return\n",
        "\n",
        "''' \n",
        "\n",
        "Questa funzione serve a capire con che tipo di intervento si ha a che fare e trattarlo conseguentemente\n",
        "\n",
        "Riposa sull'assunto che gli interventi siano tutti riconducibili a quattro tipi: parlamentari (dove appare una sigla del \n",
        "tipo (PD) nella coda - 'tail'- del tag <nominativo>), procedurali 1 (in cui il testo del tag <nominativo> non è il \n",
        "nome e cognome,  controintuitivamente, ma la qualifica di chi parla (es. PRESIDENTE)), procedurali 2 (in cui il testo del tag \n",
        "<nominativo> è il nome e cognome e la qualifica di chi parla è inserita nel tag <emphasis> che segue dopo una virgola) e di \n",
        "esterni (in cui la qualifica di chi parla è inserita nel tag <emphasis> che segue il tag <nominativo> dopo una virgola).\n",
        "È comunque previsto un caso di fallback.\n",
        "\n",
        "'''\n",
        "\n",
        "def gestione_intervento(Element_intervento, Element_padre):\n",
        "    for Element in Element_intervento.iter('nominativo'):\n",
        "        nodo_nominativo = Element\n",
        "        break\n",
        "    for Element_emphasis in Element_intervento.iter('emphasis'):\n",
        "        Element_emphasis.text =\" \"+ Element_emphasis.text\n",
        "    attributi = copy.deepcopy(Element_intervento.attrib)\n",
        "    attributi['idNominativo'] = nodo_nominativo.attrib['id']\n",
        "    attributi['cognomeNome'] = nodo_nominativo.attrib['cognomeNome']\n",
        "    #intervento parlamentare\n",
        "    stringa_controllo = nodo_nominativo.tail.strip()\n",
        "    for token in stringa_controllo.split()[0:3]:\n",
        "        if regex_sigla.match(token) is not None:\n",
        "            sigla = regex_sigla.match(token)[0].strip(\".\")\n",
        "            attributi['tipo'] = 'parlamentare'\n",
        "            attributi['partito'] = sigla\n",
        "            nodo_nominativo.tail = regex_sigla.sub(\"\", nodo_nominativo.tail).strip()\n",
        "            nodo_nominativo.text = None\n",
        "            pulitura_intervento(Element_intervento, attributi)\n",
        "            return\n",
        "    # intervento extra_parlamentare o procedurale (caso di 'Segretario/a')\n",
        "    # N.B. questo approccio fallisce nel caso in cui ci sia un tag emphasis prima del tag emphasis che racchiude la\n",
        "    # qualifica di chi parla. Mi sembrava improbabile al punto da non poter accadere, ma nella seduta 28 della legislatura\n",
        "    # 18, all'intervento con id tit00050.sub00020.int00090 e quello successivo si trova un tag emphasis che racchiude \n",
        "    # una sola virgola prima del tag emphasis che racchiude la qualifica. Penso si tratti di un errore, per cui procedo\n",
        "    # a correggerlo a mano e aggiungere una struttura di avvertimento (con un print) nei casi in cui la qualifica risulti\n",
        "    # strana (es. vuota, una virgola ecc.)\n",
        "    if nodo_nominativo.getnext() is not None and regex_virgola_punto.fullmatch(nodo_nominativo.tail) is not None and nodo_nominativo.getnext().tag == 'emphasis':\n",
        "        nodo_qualifica = nodo_nominativo.getnext()\n",
        "        if re.match(\",? ?[Ss]egretari[oa]\",nodo_qualifica.text.strip()) is not None:\n",
        "            attributi['tipo'] = 'procedurale'\n",
        "            nodo_qualifica.tail = regex_virgola_punto.sub(\"\", nodo_qualifica.tail, count = 1).strip()\n",
        "        else: attributi['tipo'] = 'extra_parlamentare'\n",
        "        attributi['qualifica'] = nodo_qualifica.text.strip().strip(\",\").strip()\n",
        "        if attributi['qualifica'] in (',','.',''):\n",
        "            print(\"Qualifica anomala per l'intervento con id {} della seduta numero {}. Aggiusta a mano?\".format(Element_intervento.attrib['id'],seduta.attrib['numero']))\n",
        "        nodo_nominativo.tail = None\n",
        "        nodo_nominativo.text = None\n",
        "        nodo_qualifica.text = None\n",
        "        pulitura_intervento(Element_intervento, attributi)\n",
        "        return\n",
        "    # intervento procedurale\n",
        "    if sorted(nodo_nominativo.attrib['cognomeNome'].upper().split()) != sorted(nodo_nominativo.text.split()):\n",
        "        attributi['tipo'] = 'procedurale'\n",
        "        attributi['qualifica'] = nodo_nominativo.text\n",
        "        nodo_nominativo.tail = regex_punto.sub(\"\",nodo_nominativo.tail, count=1)\n",
        "        nodo_nominativo.text = None\n",
        "        pulitura_intervento(Element_intervento, attributi)\n",
        "        return\n",
        "    # intervento parlamentare (troncato)\n",
        "    if re.match(r' *?…', re.sub(r'[\\t\\n]',\"\", nodo_nominativo.tail)) is not None:\n",
        "        lista_interventi_precedenti = list(list(Element_padre.iterancestors('seduta'))[0].iter('intervento'))\n",
        "        lista_interventi_precedenti = lista_interventi_precedenti[lista_interventi_precedenti.index(Element_intervento)-4:lista_interventi_precedenti.index(Element_intervento)]\n",
        "        lista_interventi_precedenti.reverse()\n",
        "        for intervento_precedente in lista_interventi_precedenti:\n",
        "            if intervento_precedente.attrib['tipo'] == 'parlamentare' and intervento_precedente.attrib['idNominativo'] == nodo_nominativo.attrib['id']:\n",
        "                attributi['tipo'] = 'parlamentare'\n",
        "                attributi['partito'] = intervento_precedente.attrib['partito']\n",
        "                nodo_nominativo.text = None\n",
        "                pulitura_intervento(Element_intervento, attributi)\n",
        "                return\n",
        "    #caso generico\n",
        "    attributi['tipo'] = 'altro'\n",
        "    nodo_nominativo.text = None\n",
        "    pulitura_intervento(Element_intervento, attributi)\n",
        "    numero_seduta = seduta.attrib['numero']\n",
        "    print(\"Trovato intervento anomalo nella seduta numero {}; l'intervento inizia così: '{}...'\".format(numero_seduta, Element_intervento.text[:70]))\n",
        "    return"
      ]
    },
    {
      "cell_type": "code",
      "execution_count": null,
      "metadata": {
        "scrolled": true,
        "id": "bQKp5ko0DX4d",
        "outputId": "7463a155-d03a-4a23-fe8f-e51f6ffee4f3"
      },
      "outputs": [
        {
          "name": "stdout",
          "output_type": "stream",
          "text": [
            "Qualifica anomala per l'intervento con id tit00050.sub00020.int00090 della seduta numero 28.\n",
            "Qualifica anomala per l'intervento con id tit00050.sub00020.int00110 della seduta numero 28.\n"
          ]
        }
      ],
      "source": [
        "num_legislatura = str(18)\n",
        "for num_seduta in range(1, 30):\n",
        "    indirizzo_web = \"http://documenti.camera.it/apps/resoconto/getXmlStenografico.aspx?idNumero=00{}&idLegislatura={}\".format(num_seduta, num_legislatura)\n",
        "    xml = urlopen(indirizzo_web).read()\n",
        "    seduta = etree.fromstring(xml)\n",
        "    # rimuove tag per la data estesa (inutile perché la data è già negli attributi di <seduta>)\n",
        "    seduta[0].remove(seduta[0].find('dataEstesa'))\n",
        "    tag_da_tenere = ['intervento', 'dibattito']\n",
        "    for Element in seduta[1]:\n",
        "        if Element.tag not in tag_da_tenere:\n",
        "            seduta[1].remove(Element)\n",
        "    tag_da_tenere = ['titolo','fase','intervento']\n",
        "    file_da_salvare = False\n",
        "    for Element in seduta[1]:\n",
        "        if Element.tag == 'dibattito':\n",
        "            da_salvare = False\n",
        "            for Element2 in Element:\n",
        "                if Element2.tag == 'intervento':\n",
        "                    da_salvare = True\n",
        "                    file_da_salvare = True\n",
        "                    gestione_intervento(Element2, Element)    \n",
        "                elif Element2.tag == 'fase':\n",
        "                    fase_da_salvare = False\n",
        "                    for Element3 in Element2:\n",
        "                        if Element3.tag == 'intervento':\n",
        "                            fase_da_salvare = True\n",
        "                            da_salvare = True\n",
        "                            file_da_salvare = True\n",
        "                            gestione_intervento(Element3, Element2)\n",
        "                        elif Element3.tag not in tag_da_tenere:\n",
        "                            Element2.remove(Element3)\n",
        "                    # se la fase contiene solo elementi che sono stati eliminati, viene eliminata anch'essa\n",
        "                    if fase_da_salvare is False:\n",
        "                        Element.remove(Element2)\n",
        "                elif Element2.tag not in tag_da_tenere:\n",
        "                    Element.remove(Element2)\n",
        "            # se il dibattito contiene solo elementi che sono stati eliminati, viene eliminato anch'esso\n",
        "            if da_salvare is False:\n",
        "                seduta[1].remove(Element)\n",
        "        else: gestione_intervento(Element, seduta[1])\n",
        "    if file_da_salvare is True:\n",
        "        seduta_albero = etree.ElementTree(seduta)\n",
        "        seduta_albero.write('Resoconti/legislatura_{}/seduta_{}.xml'.format(num_legislatura,num_seduta), encoding ='utf-8')\n",
        "    else:\n",
        "        print(\"Seduta {} non salvata perché priva di interventi.\".format(num_seduta))"
      ]
    }
  ],
  "metadata": {
    "kernelspec": {
      "display_name": "Python 3",
      "language": "python",
      "name": "python3"
    },
    "language_info": {
      "codemirror_mode": {
        "name": "ipython",
        "version": 3
      },
      "file_extension": ".py",
      "mimetype": "text/x-python",
      "name": "python",
      "nbconvert_exporter": "python",
      "pygments_lexer": "ipython3",
      "version": "3.7.6"
    },
    "colab": {
      "name": "Download resoconti XML.ipynb",
      "provenance": []
    }
  },
  "nbformat": 4,
  "nbformat_minor": 0
}